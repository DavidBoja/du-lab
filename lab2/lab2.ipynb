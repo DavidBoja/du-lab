{
 "cells": [
  {
   "cell_type": "code",
   "execution_count": 1,
   "metadata": {
    "collapsed": false
   },
   "outputs": [],
   "source": [
    "import os\n",
    "import math\n",
    "import pickle\n",
    "import numpy as np\n",
    "import matplotlib.pyplot as plt\n",
    "import skimage as ski\n",
    "import skimage.io\n",
    "import tensorflow as tf\n",
    "from tensorflow.examples.tutorials.mnist import input_data"
   ]
  },
  {
   "cell_type": "code",
   "execution_count": 2,
   "metadata": {
    "collapsed": true
   },
   "outputs": [],
   "source": [
    "DATA_DIR = '../datasets/'\n",
    "SAVE_DIR = './out/'"
   ]
  },
  {
   "cell_type": "code",
   "execution_count": 3,
   "metadata": {
    "collapsed": true
   },
   "outputs": [],
   "source": [
    "def draw_conv_filters(epoch, step, weights, save_dir):\n",
    "    w = weights.copy()\n",
    "    num_filters = w.shape[3]\n",
    "    num_channels = w.shape[2]\n",
    "    k = w.shape[0]\n",
    "    assert w.shape[0] == w.shape[1]\n",
    "    w = w.reshape(k, k, num_channels, num_filters)\n",
    "    w -= w.min()\n",
    "    w /= w.max()\n",
    "    border = 1\n",
    "    cols = 8\n",
    "    rows = math.ceil(num_filters / cols)\n",
    "    width = cols * k + (cols-1) * border\n",
    "    height = rows * k + (rows-1) * border\n",
    "    img = np.zeros([height, width, num_channels])\n",
    "    for i in range(num_filters):\n",
    "        r = int(i / cols) * (k + border)\n",
    "        c = int(i % cols) * (k + border)\n",
    "        img[r:r+k,c:c+k,:] = w[:,:,:,i]\n",
    "    filename = 'epoch_%02d_step_%06d.png' % (epoch, step)\n",
    "    ski.io.imsave(os.path.join(save_dir, filename), img)\n",
    "\n",
    "def labels_to_onehot(Y_, C):\n",
    "    N = Y_.shape[0]\n",
    "    Yoh_ = np.zeros((N, C))\n",
    "    Yoh_[range(N), Y_] = 1\n",
    "    return Yoh_\n",
    "\n",
    "def weight_variable(shape, stdev=0.1):\n",
    "    # shape [dim_x, dim_y, num_of_input_channels, num_of_output_channels]\n",
    "    initial = tf.truncated_normal(shape, stddev=stdev)\n",
    "    return tf.Variable(initial)\n",
    "\n",
    "def bias_variable(shape, initial=0.1):\n",
    "    # shape: [num_of_output_channels]\n",
    "    initial = tf.constant(initial, shape=shape)\n",
    "    return tf.Variable(initial)\n",
    "\n",
    "def conv2d(x, W):\n",
    "    # x: input\n",
    "    # W: weights\n",
    "    return tf.nn.conv2d(x, W, strides=[1, 1, 1, 1], padding='SAME')\n",
    "\n",
    "def max_pool(x, k, stride):\n",
    "    # x: input\n",
    "    # k: window size\n",
    "    # stride: window step\n",
    "    return tf.nn.max_pool(x, ksize=[1, k, k, 1], strides=[1, stride, stride, 1], padding='SAME')"
   ]
  },
  {
   "cell_type": "markdown",
   "metadata": {},
   "source": [
    "### 3. zadatak - usporedba s Tensorflowom"
   ]
  },
  {
   "cell_type": "code",
   "execution_count": 4,
   "metadata": {
    "collapsed": true
   },
   "outputs": [],
   "source": [
    "# parameters\n",
    "img_height = 28\n",
    "img_width = 28\n",
    "num_channels = 1\n",
    "num_classes = 10\n",
    "\n",
    "conv_k = 5\n",
    "pool_k = 2\n",
    "pool_stride = 2\n",
    "hidden_layers = [16, 32, 512]\n",
    "\n",
    "batch_size = 50\n",
    "param_delta = 1e-4\n",
    "param_niter = 20000\n",
    "verbose = True\n",
    "print_every = 1000"
   ]
  },
  {
   "cell_type": "code",
   "execution_count": 5,
   "metadata": {
    "collapsed": false
   },
   "outputs": [
    {
     "name": "stdout",
     "output_type": "stream",
     "text": [
      "Extracting ../datasets/MNIST/train-images-idx3-ubyte.gz\n",
      "Extracting ../datasets/MNIST/train-labels-idx1-ubyte.gz\n",
      "Extracting ../datasets/MNIST/t10k-images-idx3-ubyte.gz\n",
      "Extracting ../datasets/MNIST/t10k-labels-idx1-ubyte.gz\n"
     ]
    }
   ],
   "source": [
    "# load dataset\n",
    "mnist = input_data.read_data_sets(DATA_DIR + 'MNIST/', one_hot=True)"
   ]
  },
  {
   "cell_type": "code",
   "execution_count": 6,
   "metadata": {
    "collapsed": false
   },
   "outputs": [
    {
     "name": "stdout",
     "output_type": "stream",
     "text": [
      "epoch 0, step 0, training accuracy 0.12\n",
      "epoch 0, step 1000, training accuracy 0.98\n",
      "epoch 1, step 2000, training accuracy 0.96\n",
      "epoch 2, step 3000, training accuracy 0.96\n",
      "epoch 3, step 4000, training accuracy 0.98\n",
      "epoch 4, step 5000, training accuracy 1\n",
      "epoch 5, step 6000, training accuracy 1\n",
      "epoch 6, step 7000, training accuracy 0.98\n",
      "epoch 7, step 8000, training accuracy 0.98\n",
      "epoch 8, step 9000, training accuracy 1\n",
      "epoch 9, step 10000, training accuracy 0.98\n",
      "epoch 10, step 11000, training accuracy 0.98\n",
      "epoch 10, step 12000, training accuracy 1\n",
      "epoch 11, step 13000, training accuracy 1\n",
      "epoch 12, step 14000, training accuracy 1\n",
      "epoch 13, step 15000, training accuracy 1\n",
      "epoch 14, step 16000, training accuracy 1\n",
      "epoch 15, step 17000, training accuracy 0.98\n",
      "epoch 16, step 18000, training accuracy 1\n",
      "epoch 17, step 19000, training accuracy 1\n",
      "test accuracy 0.9921\n"
     ]
    }
   ],
   "source": [
    "# inputs\n",
    "x = tf.placeholder(tf.float32, shape=[None, img_height * img_width])\n",
    "x_image = tf.reshape(x, [-1, img_height, img_width, num_channels])\n",
    "y_ = tf.placeholder(tf.float32, shape=[None, num_classes])\n",
    "\n",
    "# conv layer\n",
    "W_conv1 = weight_variable([conv_k, conv_k, num_channels, hidden_layers[0]])\n",
    "b_conv1 = bias_variable([hidden_layers[0]])\n",
    "\n",
    "h_conv1 = tf.nn.relu(conv2d(x_image, W_conv1) + b_conv1)\n",
    "h_pool1 = max_pool(h_conv1, pool_k, pool_stride)\n",
    "\n",
    "# conv layer\n",
    "W_conv2 = weight_variable([conv_k, conv_k, hidden_layers[0], hidden_layers[1]])\n",
    "b_conv2 = bias_variable([hidden_layers[1]])\n",
    "\n",
    "h_conv2 = tf.nn.relu(conv2d(h_pool1, W_conv2) + b_conv2)\n",
    "h_pool2 = max_pool(h_conv2, pool_k, pool_stride)\n",
    "\n",
    "# fc layer\n",
    "W_fc1 = weight_variable([7*7*hidden_layers[1], hidden_layers[2]])\n",
    "b_fc1 = bias_variable([hidden_layers[2]])\n",
    "\n",
    "h_pool2_flat = tf.reshape(h_pool2, [-1, 7*7*hidden_layers[1]])\n",
    "h_fc1 = tf.nn.relu(tf.matmul(h_pool2_flat, W_fc1) + b_fc1)\n",
    "\n",
    "# readout layer\n",
    "W_fc2 = weight_variable([hidden_layers[2], num_classes])\n",
    "b_fc2 = bias_variable([num_classes])\n",
    "\n",
    "y_conv = tf.matmul(h_fc1, W_fc2) + b_fc2\n",
    "\n",
    "# loss\n",
    "cross_entropy = tf.reduce_mean(tf.nn.softmax_cross_entropy_with_logits(labels=y_, logits=y_conv))\n",
    "\n",
    "# optimizer\n",
    "train_step = tf.train.AdamOptimizer(param_delta).minimize(cross_entropy)\n",
    "\n",
    "# accuracy\n",
    "correct_prediction = tf.equal(tf.argmax(y_conv, 1), tf.argmax(y_, 1))\n",
    "accuracy = tf.reduce_mean(tf.cast(correct_prediction, tf.float32))\n",
    "\n",
    "# init session\n",
    "sess = tf.Session()\n",
    "sess.run(tf.global_variables_initializer())\n",
    "\n",
    "N = mnist.train.images.shape[0]\n",
    "for i in range(param_niter):\n",
    "    epoch = i * batch_size / N\n",
    "    \n",
    "    batch = mnist.train.next_batch(batch_size)\n",
    "    \n",
    "    _ = sess.run(train_step, feed_dict={x: batch[0], y_: batch[1]})\n",
    "\n",
    "    if verbose and i % print_every == 0:\n",
    "        train_accuracy = sess.run(accuracy, feed_dict={x: batch[0], y_: batch[1]})\n",
    "        print('epoch %d, step %d, training accuracy %g' % (epoch, i, train_accuracy))\n",
    "\n",
    "test_accuracy = sess.run(accuracy, feed_dict={x: mnist.test.images, y_: mnist.test.labels})\n",
    "print('test accuracy %g' % test_accuracy)"
   ]
  },
  {
   "cell_type": "code",
   "execution_count": 7,
   "metadata": {
    "collapsed": false
   },
   "outputs": [
    {
     "data": {
      "image/png": "[encoded data removed]",
      "text/plain": [
       "<matplotlib.figure.Figure at 0x2ac291b52e8>"
      ]
     },
     "metadata": {},
     "output_type": "display_data"
    }
   ],
   "source": [
    "_, plots = plt.subplots(4, 4, figsize=(10, 10))\n",
    "for i, plot in enumerate(plots.flatten()):\n",
    "    feature = sess.run(W_conv1)[:,:,0,i]\n",
    "    vmin = feature.flatten().min()\n",
    "    vmax = feature.flatten().max()\n",
    "    plot.matshow(feature, cmap=plt.cm.gray, vmin=vmin, vmax=vmax)\n",
    "    plot.set_xticks([])\n",
    "    plot.set_yticks([])\n",
    "plt.show()"
   ]
  },
  {
   "cell_type": "markdown",
   "metadata": {
    "collapsed": true
   },
   "source": [
    "### 4. zadatak - Klasifikacija na CIFAR-10 skupu"
   ]
  },
  {
   "cell_type": "code",
   "execution_count": 8,
   "metadata": {
    "collapsed": true
   },
   "outputs": [],
   "source": [
    "# parameters\n",
    "img_height = 32\n",
    "img_width = 32\n",
    "num_channels = 3\n",
    "num_classes = 10\n",
    "\n",
    "conv_k = 5\n",
    "pool_k = 3\n",
    "pool_stride = 2\n",
    "hidden_layers = [16, 32, 256, 128]\n",
    "\n",
    "batch_size = 50\n",
    "param_delta = 1e-4\n",
    "param_niter = 20000\n",
    "verbose = True\n",
    "print_every = 1000"
   ]
  },
  {
   "cell_type": "code",
   "execution_count": 9,
   "metadata": {
    "collapsed": false
   },
   "outputs": [],
   "source": [
    "# load dataset\n",
    "def shuffle_data(data_x, data_y):\n",
    "    indices = np.arange(data_x.shape[0])\n",
    "    np.random.shuffle(indices)\n",
    "    shuffled_data_x = np.ascontiguousarray(data_x[indices])\n",
    "    shuffled_data_y = np.ascontiguousarray(data_y[indices])\n",
    "    return shuffled_data_x, shuffled_data_y\n",
    "\n",
    "def unpickle(file):\n",
    "    fo = open(file, 'rb')\n",
    "    dict = pickle.load(fo, encoding='latin1')\n",
    "    fo.close()\n",
    "    return dict\n",
    "\n",
    "train_x = np.ndarray((0, img_height * img_width * num_channels), dtype=np.float32)\n",
    "train_y = []\n",
    "for i in range(1, 6):\n",
    "    subset = unpickle(os.path.join(DATA_DIR, 'CIFAR-10/data_batch_%d' % i))\n",
    "    train_x = np.vstack((train_x, subset['data']))\n",
    "    train_y += subset['labels']\n",
    "train_x = train_x.reshape((-1, num_channels, img_height, img_width)).transpose(0,2,3,1)\n",
    "train_y = np.array(train_y, dtype=np.int32)\n",
    "\n",
    "subset = unpickle(os.path.join(DATA_DIR, 'CIFAR-10/test_batch'))\n",
    "test_x = subset['data'].reshape((-1, num_channels, img_height, img_width)).transpose(0,2,3,1).astype(np.float32)\n",
    "test_y = np.array(subset['labels'], dtype=np.int32)\n",
    "\n",
    "valid_size = 5000\n",
    "train_x, train_y = shuffle_data(train_x, train_y)\n",
    "valid_x = train_x[:valid_size, ...]\n",
    "valid_y = train_y[:valid_size, ...]\n",
    "train_x = train_x[valid_size:, ...]\n",
    "train_y = train_y[valid_size:, ...]\n",
    "data_mean = train_x.mean((0,1,2))\n",
    "data_std = train_x.std((0,1,2))\n",
    "\n",
    "train_x = (train_x - data_mean) / data_std\n",
    "valid_x = (valid_x - data_mean) / data_std\n",
    "test_x = (test_x - data_mean) / data_std"
   ]
  },
  {
   "cell_type": "code",
   "execution_count": 10,
   "metadata": {
    "collapsed": false
   },
   "outputs": [
    {
     "name": "stderr",
     "output_type": "stream",
     "text": [
      "C:\\Users\\tzadr\\Anaconda2\\envs\\ipykernel_py3\\lib\\site-packages\\skimage\\util\\dtype.py:122: UserWarning: Possible precision loss when converting from float64 to uint8\n",
      "  .format(dtypeobj_in, dtypeobj_out))\n"
     ]
    },
    {
     "name": "stdout",
     "output_type": "stream",
     "text": [
      "epoch 0, step 0, training accuracy 0.06\n",
      "epoch 1, step 1000, training accuracy 0.6\n",
      "epoch 2, step 2000, training accuracy 0.58\n",
      "epoch 3, step 3000, training accuracy 0.7\n",
      "epoch 4, step 4000, training accuracy 0.64\n",
      "epoch 5, step 5000, training accuracy 0.62\n",
      "epoch 6, step 6000, training accuracy 0.66\n",
      "epoch 7, step 7000, training accuracy 0.72\n",
      "epoch 8, step 8000, training accuracy 0.68\n",
      "epoch 10, step 9000, training accuracy 0.74\n",
      "epoch 11, step 10000, training accuracy 0.82\n",
      "epoch 12, step 11000, training accuracy 0.76\n",
      "epoch 13, step 12000, training accuracy 0.88\n",
      "epoch 14, step 13000, training accuracy 0.82\n",
      "epoch 15, step 14000, training accuracy 0.78\n",
      "epoch 16, step 15000, training accuracy 0.78\n",
      "epoch 17, step 16000, training accuracy 0.84\n",
      "epoch 18, step 17000, training accuracy 0.84\n",
      "epoch 20, step 18000, training accuracy 0.86\n",
      "epoch 21, step 19000, training accuracy 0.94\n",
      "test accuracy 0.6828\n"
     ]
    }
   ],
   "source": [
    "accuracies = []\n",
    "losses = []\n",
    "\n",
    "# inputs\n",
    "x = tf.placeholder(tf.float32, shape=[None, img_height, img_width, num_channels])\n",
    "y_ = tf.placeholder(tf.float32, shape=[None, num_classes])\n",
    "\n",
    "# conv layer\n",
    "W_conv1 = weight_variable([conv_k, conv_k, num_channels, hidden_layers[0]])\n",
    "b_conv1 = bias_variable([hidden_layers[0]])\n",
    "\n",
    "h_conv1 = tf.nn.relu(conv2d(x, W_conv1) + b_conv1)\n",
    "h_pool1 = max_pool(h_conv1, pool_k, pool_stride)\n",
    "\n",
    "# conv layer\n",
    "W_conv2 = weight_variable([conv_k, conv_k, hidden_layers[0], hidden_layers[1]])\n",
    "b_conv2 = bias_variable([hidden_layers[1]])\n",
    "\n",
    "h_conv2 = tf.nn.relu(conv2d(h_pool1, W_conv2) + b_conv2)\n",
    "h_pool2 = max_pool(h_conv2, pool_k, pool_stride)\n",
    "\n",
    "# fc layer\n",
    "W_fc1 = weight_variable([8*8*hidden_layers[1], hidden_layers[2]])\n",
    "b_fc1 = bias_variable([hidden_layers[2]])\n",
    "\n",
    "h_pool2_flat = tf.reshape(h_pool2, [-1, 8*8*hidden_layers[1]])\n",
    "h_fc1 = tf.nn.relu(tf.matmul(h_pool2_flat, W_fc1) + b_fc1)\n",
    "\n",
    "# fc layer\n",
    "W_fc2 = weight_variable([hidden_layers[2], hidden_layers[3]])\n",
    "b_fc2 = bias_variable([hidden_layers[3]])\n",
    "\n",
    "h_fc2 = tf.nn.relu(tf.matmul(h_fc1, W_fc2) + b_fc2)\n",
    "\n",
    "# readout layer\n",
    "W_fc3 = weight_variable([hidden_layers[3], num_classes])\n",
    "b_fc3 = bias_variable([num_classes])\n",
    "\n",
    "y_conv = tf.matmul(h_fc2, W_fc3) + b_fc3\n",
    "\n",
    "# loss\n",
    "cross_entropy = tf.reduce_mean(tf.nn.softmax_cross_entropy_with_logits(labels=y_, logits=y_conv))\n",
    "\n",
    "# optimizer\n",
    "train_step = tf.train.AdamOptimizer(param_delta).minimize(cross_entropy)\n",
    "\n",
    "# accuracy\n",
    "correct_prediction = tf.equal(tf.argmax(y_conv, 1), tf.argmax(y_, 1))\n",
    "accuracy = tf.reduce_mean(tf.cast(correct_prediction, tf.float32))\n",
    "\n",
    "# init session\n",
    "sess = tf.Session()\n",
    "sess.run(tf.global_variables_initializer())\n",
    "\n",
    "N = train_x.shape[0]\n",
    "for i in range(param_niter):\n",
    "    epoch = i * batch_size / N\n",
    "    \n",
    "    from_index = (i * batch_size) % N\n",
    "    to_index = from_index + batch_size\n",
    "    batch = (train_x[from_index:to_index], labels_to_onehot(train_y[from_index:to_index], num_classes))\n",
    "    \n",
    "    _ = sess.run(train_step, feed_dict={x: batch[0], y_: batch[1]})\n",
    "\n",
    "    if verbose and i % print_every == 0:\n",
    "        conv1_weights, train_accuracy, loss = sess.run([W_conv1, accuracy, cross_entropy], feed_dict={x: batch[0], y_: batch[1]})\n",
    "        accuracies.append(train_accuracy)\n",
    "        losses.append(loss)\n",
    "        draw_conv_filters(epoch, i, conv1_weights, SAVE_DIR + 'zad4/')\n",
    "        print('epoch %d, step %d, training accuracy %g' % (epoch, i, train_accuracy))\n",
    "\n",
    "test_accuracy = sess.run(accuracy, feed_dict={x: test_x[:5000], y_: labels_to_onehot(test_y[:5000], num_classes)})\n",
    "print('test accuracy %g' % test_accuracy)"
   ]
  },
  {
   "cell_type": "code",
   "execution_count": 11,
   "metadata": {
    "collapsed": false
   },
   "outputs": [
    {
     "data": {
      "image/png": "[encoded data removed]",
      "text/plain": [
       "<matplotlib.figure.Figure at 0x2ac3b8e1208>"
      ]
     },
     "metadata": {},
     "output_type": "display_data"
    }
   ],
   "source": [
    "_, plots = plt.subplots(2, figsize=(10, 10))\n",
    "    \n",
    "plots[0].set_title('Cross-entropy loss')\n",
    "plots[0].plot([i * print_every for i in range(len(losses))], losses, marker='o')\n",
    "\n",
    "plots[1].set_title('Accuracy')\n",
    "plots[1].plot([i * print_every for i in range(len(accuracies))], accuracies, marker='o')\n",
    "\n",
    "plt.show()"
   ]
  },
  {
   "cell_type": "code",
   "execution_count": null,
   "metadata": {
    "collapsed": true
   },
   "outputs": [],
   "source": []
  }
 ],
 "metadata": {
  "anaconda-cloud": {},
  "kernelspec": {
   "display_name": "Python 3",
   "language": "python",
   "name": "python3"
  },
  "language_info": {
   "codemirror_mode": {
    "name": "ipython",
    "version": 3
   },
   "file_extension": ".py",
   "mimetype": "text/x-python",
   "name": "python",
   "nbconvert_exporter": "python",
   "pygments_lexer": "ipython3",
   "version": "3.6.3"
  }
 },
 "nbformat": 4,
 "nbformat_minor": 2
}
