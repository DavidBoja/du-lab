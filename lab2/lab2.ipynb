{
 "cells": [
  {
   "cell_type": "code",
   "execution_count": 8,
   "metadata": {
    "collapsed": false
   },
   "outputs": [],
   "source": [
    "import numpy as np\n",
    "import matplotlib.pyplot as plt\n",
    "import tensorflow as tf\n",
    "from tensorflow.examples.tutorials.mnist import input_data"
   ]
  },
  {
   "cell_type": "markdown",
   "metadata": {},
   "source": [
    "### 3. zadatak - usporedba s Tensorflowom"
   ]
  },
  {
   "cell_type": "code",
   "execution_count": 2,
   "metadata": {
    "collapsed": false
   },
   "outputs": [
    {
     "name": "stdout",
     "output_type": "stream",
     "text": [
      "Extracting /../datasets/MNIST/train-images-idx3-ubyte.gz\n",
      "Extracting /../datasets/MNIST/train-labels-idx1-ubyte.gz\n",
      "Extracting /../datasets/MNIST/t10k-images-idx3-ubyte.gz\n",
      "Extracting /../datasets/MNIST/t10k-labels-idx1-ubyte.gz\n"
     ]
    }
   ],
   "source": [
    "DATA_DIR = '/../datasets/MNIST/'\n",
    "\n",
    "# load dataset\n",
    "mnist = input_data.read_data_sets(DATA_DIR, one_hot=True)"
   ]
  },
  {
   "cell_type": "code",
   "execution_count": 3,
   "metadata": {
    "collapsed": true
   },
   "outputs": [],
   "source": [
    "# parameters\n",
    "image_layers = 1\n",
    "image_height = 28\n",
    "image_width = 28\n",
    "num_classes = 10\n",
    "\n",
    "conv_k = 5\n",
    "pool_k = 2\n",
    "hidden_layers = [16, 32, 512]\n",
    "\n",
    "param_delta = 1e-4\n",
    "param_niter = 20000\n",
    "print_every = 1000\n",
    "batch_size = 50\n",
    "\n",
    "w_stdev = 0.1\n",
    "b_initial = 0.1"
   ]
  },
  {
   "cell_type": "code",
   "execution_count": 4,
   "metadata": {
    "collapsed": false
   },
   "outputs": [
    {
     "name": "stdout",
     "output_type": "stream",
     "text": [
      "step 0, training accuracy 0.1\n",
      "step 1000, training accuracy 0.98\n",
      "step 2000, training accuracy 0.98\n",
      "step 3000, training accuracy 0.96\n",
      "step 4000, training accuracy 0.96\n",
      "step 5000, training accuracy 0.96\n",
      "step 6000, training accuracy 0.96\n",
      "step 7000, training accuracy 0.98\n",
      "step 8000, training accuracy 1\n",
      "step 9000, training accuracy 0.98\n",
      "step 10000, training accuracy 1\n",
      "step 11000, training accuracy 1\n",
      "step 12000, training accuracy 1\n",
      "step 13000, training accuracy 1\n",
      "step 14000, training accuracy 1\n",
      "step 15000, training accuracy 1\n",
      "step 16000, training accuracy 1\n",
      "step 17000, training accuracy 1\n",
      "step 18000, training accuracy 1\n",
      "step 19000, training accuracy 1\n",
      "test accuracy 0.9905\n"
     ]
    }
   ],
   "source": [
    "def weight_variable(shape):\n",
    "    # shape [dim_x, dim_y, num_of_input_channels, num_of_output_channels]\n",
    "    initial = tf.truncated_normal(shape, stddev=w_stdev)\n",
    "    return tf.Variable(initial)\n",
    "\n",
    "def bias_variable(shape):\n",
    "    # shape: [num_of_output_channels]\n",
    "    initial = tf.constant(b_initial, shape=shape)\n",
    "    return tf.Variable(initial)\n",
    "\n",
    "def conv2d(x, W):\n",
    "    # x: input\n",
    "    # W: weights\n",
    "    return tf.nn.conv2d(x, W, strides=[1, 1, 1, 1], padding='SAME')\n",
    "\n",
    "def max_pool(x):\n",
    "    # x: input\n",
    "    return tf.nn.max_pool(x, ksize=[1, pool_k, pool_k, 1], strides=[1, pool_k, pool_k, 1], padding='SAME')\n",
    "\n",
    "# inputs\n",
    "x = tf.placeholder(tf.float32, shape=[None, image_height * image_width])\n",
    "x_image = tf.reshape(x, [-1, image_height, image_width, image_layers])\n",
    "y_ = tf.placeholder(tf.float32, shape=[None, num_classes])\n",
    "\n",
    "# conv layer\n",
    "W_conv1 = weight_variable([conv_k, conv_k, image_layers, hidden_layers[0]])\n",
    "b_conv1 = bias_variable([hidden_layers[0]])\n",
    "\n",
    "h_conv1 = tf.nn.relu(conv2d(x_image, W_conv1) + b_conv1)\n",
    "h_pool1 = max_pool(h_conv1)\n",
    "\n",
    "# conv layer\n",
    "W_conv2 = weight_variable([conv_k, conv_k, hidden_layers[0], hidden_layers[1]])\n",
    "b_conv2 = bias_variable([hidden_layers[1]])\n",
    "\n",
    "h_conv2 = tf.nn.relu(conv2d(h_pool1, W_conv2) + b_conv2)\n",
    "h_pool2 = max_pool(h_conv2)\n",
    "\n",
    "# fc layer\n",
    "W_fc1 = weight_variable([7*7*hidden_layers[1], hidden_layers[2]])\n",
    "b_fc1 = bias_variable([hidden_layers[2]])\n",
    "\n",
    "h_pool2_flat = tf.reshape(h_pool2, [-1, 7*7*hidden_layers[1]])\n",
    "h_fc1 = tf.nn.relu(tf.matmul(h_pool2_flat, W_fc1) + b_fc1)\n",
    "\n",
    "# readout layer\n",
    "W_fc2 = weight_variable([hidden_layers[2], num_classes])\n",
    "b_fc2 = bias_variable([num_classes])\n",
    "\n",
    "y_conv = tf.matmul(h_fc1, W_fc2) + b_fc2\n",
    "\n",
    "# loss\n",
    "cross_entropy = tf.reduce_mean(tf.nn.softmax_cross_entropy_with_logits(labels=y_, logits=y_conv))\n",
    "\n",
    "# optimizer\n",
    "train_step = tf.train.AdamOptimizer(param_delta).minimize(cross_entropy)\n",
    "\n",
    "# accuracy\n",
    "correct_prediction = tf.equal(tf.argmax(y_conv, 1), tf.argmax(y_, 1))\n",
    "accuracy = tf.reduce_mean(tf.cast(correct_prediction, tf.float32))\n",
    "\n",
    "# init session\n",
    "sess = tf.Session()\n",
    "sess.run(tf.global_variables_initializer())\n",
    "\n",
    "for i in range(param_niter):\n",
    "    batch = mnist.train.next_batch(batch_size)\n",
    "    _ = sess.run(train_step, feed_dict={x: batch[0], y_: batch[1]})\n",
    "\n",
    "    if i % print_every == 0:\n",
    "        train_accuracy = sess.run(accuracy, feed_dict={x: batch[0], y_: batch[1]})\n",
    "        print('step %d, training accuracy %g' % (i, train_accuracy))\n",
    "\n",
    "test_accuracy = sess.run(accuracy, feed_dict={x: mnist.test.images, y_: mnist.test.labels})\n",
    "print('test accuracy %g' % test_accuracy)"
   ]
  },
  {
   "cell_type": "code",
   "execution_count": 23,
   "metadata": {
    "collapsed": false
   },
   "outputs": [
    {
     "data": {
      "image/png": "[encoded data removed]",
      "text/plain": [
       "<matplotlib.figure.Figure at 0x2492080afd0>"
      ]
     },
     "metadata": {},
     "output_type": "display_data"
    }
   ],
   "source": [
    "_, plots = plt.subplots(4, 4, figsize=(10, 10))\n",
    "for i, plot in enumerate(plots.flatten()):\n",
    "    feature = sess.run(W_conv1)[:,:,0,i]\n",
    "    vmin = feature.flatten().min()\n",
    "    vmax = feature.flatten().max()\n",
    "    plot.matshow(feature, cmap=plt.cm.gray, vmin=vmin, vmax=vmax)\n",
    "    plot.set_xticks([])\n",
    "    plot.set_yticks([])\n",
    "plt.show()"
   ]
  },
  {
   "cell_type": "code",
   "execution_count": null,
   "metadata": {
    "collapsed": true
   },
   "outputs": [],
   "source": []
  }
 ],
 "metadata": {
  "anaconda-cloud": {},
  "kernelspec": {
   "display_name": "Python 3",
   "language": "python",
   "name": "python3"
  },
  "language_info": {
   "codemirror_mode": {
    "name": "ipython",
    "version": 3
   },
   "file_extension": ".py",
   "mimetype": "text/x-python",
   "name": "python",
   "nbconvert_exporter": "python",
   "pygments_lexer": "ipython3",
   "version": "3.6.3"
  }
 },
 "nbformat": 4,
 "nbformat_minor": 2
}
