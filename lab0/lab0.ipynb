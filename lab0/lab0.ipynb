{
 "cells": [
  {
   "cell_type": "code",
   "execution_count": 1,
   "metadata": {
    "collapsed": false
   },
   "outputs": [
    {
     "name": "stdout",
     "output_type": "stream",
     "text": [
      "Populating the interactive namespace from numpy and matplotlib\n"
     ]
    }
   ],
   "source": [
    "import numpy as np\n",
    "import matplotlib.pyplot as plt\n",
    "from sklearn.metrics import label_ranking_average_precision_score\n",
    "%pylab inline"
   ]
  },
  {
   "cell_type": "code",
   "execution_count": 3,
   "metadata": {
    "collapsed": true
   },
   "outputs": [],
   "source": [
    "def debug(var, name, isArray=True):\n",
    "    if isArray:\n",
    "        print(name + ':')\n",
    "        print(var)\n",
    "        print('Shape:', var.shape)\n",
    "    else:\n",
    "        print(name + ':', var)"
   ]
  },
  {
   "cell_type": "markdown",
   "metadata": {},
   "source": [
    "### 1. Stvaranje umjetnog skupa 2D podataka"
   ]
  },
  {
   "cell_type": "code",
   "execution_count": 4,
   "metadata": {
    "collapsed": true
   },
   "outputs": [],
   "source": [
    "class Random2DGaussian():\n",
    "    def __init__(self, minx=0, maxx=10, miny=0, maxy=10):\n",
    "        self.mean = (np.random.random_sample() * (maxx - minx) + minx,\n",
    "                     np.random.random_sample() * (maxy - miny) + miny)\n",
    "        \n",
    "        eigvals = (np.random.random_sample(2) * [maxx - minx, maxy - miny] / 5)**2\n",
    "        \n",
    "        theta = np.random.random_sample() * 2 * np.pi\n",
    "        R = np.array([[np.cos(theta), -np.sin(theta)],\n",
    "                      [np.sin(theta), np.cos(theta)]])\n",
    "        \n",
    "        self.variance = np.dot(np.dot(np.transpose(R), np.diag(eigvals)), R)\n",
    "        \n",
    "    def get_sample(self, n):\n",
    "        return np.random.multivariate_normal(self.mean, self.variance, n)"
   ]
  },
  {
   "cell_type": "code",
   "execution_count": 67,
   "metadata": {
    "collapsed": false
   },
   "outputs": [
    {
     "data": {
      "image/png": "[encoded data removed]",
      "text/plain": [
       "<matplotlib.figure.Figure at 0x20c812889b0>"
      ]
     },
     "metadata": {},
     "output_type": "display_data"
    }
   ],
   "source": [
    "np.random.seed(100)\n",
    "\n",
    "G=Random2DGaussian()\n",
    "X=G.get_sample(100)\n",
    "plt.scatter(X[:,0], X[:,1])\n",
    "plt.show()"
   ]
  },
  {
   "cell_type": "markdown",
   "metadata": {},
   "source": [
    "### 2. Učenje binarne logističke regresije gradijentnim spustom"
   ]
  },
  {
   "cell_type": "code",
   "execution_count": 6,
   "metadata": {
    "collapsed": true
   },
   "outputs": [],
   "source": [
    "def binlogreg_train(X, Y_, param_niter=100, param_delta=0.6, verbose=False):\n",
    "    '''\n",
    "    Argumenti\n",
    "      X:  podatci, np.array Nx2\n",
    "      Y_: indeksi razreda, np.array Nx1\n",
    "\n",
    "    Povratne vrijednosti\n",
    "      w, b: parametri logističke regresije\n",
    "    '''\n",
    "    \n",
    "    w = np.random.randn(2, 1) # N(0,1) 2 x 1\n",
    "    b = 0\n",
    "    \n",
    "    for i in range(param_niter):\n",
    "        # klasifikacijske mjere\n",
    "        scores = np.dot(X, w) + b # N x 1\n",
    "        \n",
    "        # vjerojatnosti razreda c1\n",
    "        probs = np.exp(scores) / (1 + np.exp(scores)) # N x 1\n",
    "        \n",
    "        # gubitak\n",
    "        loss = -np.sum(np.log(probs)) # scalar\n",
    "        \n",
    "        # dijagnostički ispis\n",
    "        if verbose and i % 10 == 0:\n",
    "            print(\"iteration {}: loss {}\".format(i, loss))\n",
    "        \n",
    "        # derivacije gubitka po klasifikacijskim mjerama\n",
    "        dL_dscores = probs - Y_ # N x 1\n",
    "        \n",
    "        N = len(X)\n",
    "        #gradijenti parametara\n",
    "        grad_w = np.sum(np.dot(X.transpose(), dL_dscores), axis=1, keepdims=True) / N # D x 1\n",
    "        grad_b = np.sum(dL_dscores) / N # 1 x 1\n",
    "        \n",
    "        #poboljsani parametri\n",
    "        w += -param_delta * grad_w\n",
    "        b += -param_delta * grad_b\n",
    "        \n",
    "    return w, b"
   ]
  },
  {
   "cell_type": "code",
   "execution_count": 7,
   "metadata": {
    "collapsed": true
   },
   "outputs": [],
   "source": [
    "def binlogreg_classify(X, w, b):\n",
    "    '''\n",
    "      Argumenti\n",
    "        X:    podatci, np.array Nx2\n",
    "        w, b: parametri logističke regresije\n",
    "    \n",
    "      Povratne vrijednosti\n",
    "        probs: vjerojatnosti razreda c1\n",
    "    '''\n",
    "    \n",
    "    # klasifikacijski rezultat\n",
    "    scores = np.dot(X, w.reshape(-1, 1)) + b # N x 1\n",
    "    \n",
    "    # vjerojatnost razreda c1\n",
    "    probs = np.exp(scores) / (1 + np.exp(scores)) # N x 1\n",
    "    \n",
    "    return probs"
   ]
  },
  {
   "cell_type": "code",
   "execution_count": 8,
   "metadata": {
    "collapsed": false
   },
   "outputs": [],
   "source": [
    "def sample_gauss_2d(C, N):\n",
    "    G = Random2DGaussian()\n",
    "    X = G.get_sample(N)\n",
    "    Y = np.array([0] * N)\n",
    "\n",
    "    for i in range(1, C):\n",
    "        G = Random2DGaussian()\n",
    "        X = np.vstack((X, G.get_sample(N)))\n",
    "        Y = np.vstack((Y, [i] * N))\n",
    "    \n",
    "    return X, Y"
   ]
  },
  {
   "cell_type": "code",
   "execution_count": 9,
   "metadata": {
    "collapsed": true
   },
   "outputs": [],
   "source": [
    "def sample_gauss_2d(C, N):\n",
    "    X = np.empty([1, 2], dtype=float)\n",
    "    Y = np.empty(1, dtype=int)\n",
    "\n",
    "    for i in range(C):\n",
    "        G = Random2DGaussian()\n",
    "        X = np.vstack((X, G.get_sample(N)))\n",
    "        Y = np.vstack((Y, [[i]] * N))\n",
    "    \n",
    "    X = np.delete(X, 0, 0)\n",
    "    Y = np.delete(Y, 0, 0)\n",
    "    return X, Y"
   ]
  },
  {
   "cell_type": "code",
   "execution_count": 10,
   "metadata": {
    "collapsed": false
   },
   "outputs": [],
   "source": [
    "def eval_perf_binary(Y, Y_):\n",
    "    good = Y[Y == Y_]\n",
    "    bad = Y[Y != Y_]\n",
    "    \n",
    "    TP = len(good[good == 1])\n",
    "    TN = len(good[good == 0])\n",
    "    FP = len(bad[bad == 1])\n",
    "    FN = len(bad[bad == 0])\n",
    "    \n",
    "    accuracy = (1. * TP + TN) / (TP + TN + FP + FN)\n",
    "    recall = (1. * TP) / (TP + FN)\n",
    "    precision = (1. * TP) / (TP + FP)\n",
    "    return accuracy, recall, precision"
   ]
  },
  {
   "cell_type": "code",
   "execution_count": 11,
   "metadata": {
    "collapsed": true
   },
   "outputs": [],
   "source": [
    "# todo: rewrite cell\n",
    "\n",
    "def get_statistical_data(Y,Y_):\n",
    "    correct_classification = Y[np.where(Y == Y_)]\n",
    "    incorrect_classification = Y[np.where(Y != Y_)]\n",
    "    \n",
    "    TP = len(correct_classification[np.where(correct_classification == 1)])\n",
    "    TN = len(correct_classification[np.where(correct_classification == 0)])\n",
    "    FP = len(incorrect_classification[np.where(incorrect_classification == 1)])\n",
    "    FN = len(incorrect_classification[np.where(incorrect_classification == 0)])\n",
    "    \n",
    "    return TP, TN, FP, FN\n",
    "\n",
    "def get_precision(TP, FP):\n",
    "    return (1. * TP) / (TP + FP)\n",
    "\n",
    "def get_recall(TP, FN):\n",
    "    return (1. * TP) / (TP + FN)\n",
    "\n",
    "def get_accuracy(TP, TN, FP, FN):\n",
    "    return (1. * TP + TN) / (TP + TN + FP + FN)\n",
    "\n",
    "def average_precision_at_index(Yranked, index):\n",
    "    if index > len(Yranked):\n",
    "        raise Exception(\"Index out of range\")\n",
    "        \n",
    "    Ypredicted = np.zeros(Yranked.shape)\n",
    "    Ypredicted[index:]=1\n",
    "    TP, TN, FP, FN = get_statistical_data(Ypredicted, Yranked)\n",
    "    \n",
    "    if TP == 0 and FP == 0:\n",
    "        return 0.0\n",
    "    return get_precision(TP, FP)\n",
    "    \n",
    "def eval_AP(Yranked):\n",
    "    numerator = np.sum([average_precision_at_index(Yranked,index) * element for index, element in enumerate(Yranked)])\n",
    "    denominator = np.sum(Yranked)\n",
    "    return numerator / denominator"
   ]
  },
  {
   "cell_type": "code",
   "execution_count": 66,
   "metadata": {
    "collapsed": false
   },
   "outputs": [
    {
     "name": "stdout",
     "output_type": "stream",
     "text": [
      "Accuracy: 0.97\tRecall: 0.99\tPrecision: 0.9519230769230769\tAP: 1.0\n"
     ]
    }
   ],
   "source": [
    "np.random.seed(100)\n",
    "\n",
    "# get the training dataset\n",
    "X, Y_ = sample_gauss_2d(2, 100)\n",
    "\n",
    "# train the model\n",
    "w, b = binlogreg_train(X, Y_)\n",
    "\n",
    "# evaluate the model on the training dataset\n",
    "probs = binlogreg_classify(X, w, b)\n",
    "Y = probs > 0.5\n",
    "\n",
    "# report performance\n",
    "accuracy, recall, precision = eval_perf_binary(Y, Y_)\n",
    "#AP = eval_AP(Y_[probs.argsort()])\n",
    "AP = label_ranking_average_precision_score(Y_, probs)\n",
    "print('Accuracy: {}\\tRecall: {}\\tPrecision: {}\\tAP: {}'.format(accuracy, recall, precision, AP))"
   ]
  },
  {
   "cell_type": "markdown",
   "metadata": {},
   "source": [
    "### 3. Grafički prikaz rezultata klasifikacije"
   ]
  },
  {
   "cell_type": "code",
   "execution_count": 81,
   "metadata": {
    "collapsed": true
   },
   "outputs": [],
   "source": [
    "def myDummyDecision(X):\n",
    "    scores = X[:,0] + X[:,1] - 5\n",
    "    return scores.reshape(-1, 1)"
   ]
  },
  {
   "cell_type": "code",
   "execution_count": 82,
   "metadata": {
    "collapsed": false
   },
   "outputs": [],
   "source": [
    "# todo: rewrite cell\n",
    "\n",
    "def graph_data(X, Y_, Y):\n",
    "    '''\n",
    "      X  ... podatci (np.array dimenzija Nx2)\n",
    "      Y_ ... točni indeksi razreda podataka (Nx1)\n",
    "      Y  ... predviđeni indeksi razreda podataka (Nx1)\n",
    "    '''\n",
    "    \n",
    "    correctly_classified = X[np.where(Y == Y_)[0]]\n",
    "    incorrectly_classified = X[np.where(Y != Y_)[0]]\n",
    "    \n",
    "    colors = np.array([(y == 0) * 0.3 + (y == 1) * 1 for y in Y_])\n",
    "    \n",
    "    color_correct = colors[np.where(Y == Y_)[0]]\n",
    "    color_incorrect = colors[np.where(Y != Y_)[0]]\n",
    "    \n",
    "    np.hstack((color_correct, color_correct, color_correct))\n",
    "    plt.scatter(correctly_classified[:,0], correctly_classified[:,1],\n",
    "                color=np.repeat(color_correct, 3, axis=1), marker='o', edgecolors=(0,0,0))\n",
    "    plt.scatter(incorrectly_classified[:,0], incorrectly_classified[:,1],\n",
    "                color=np.repeat(color_incorrect, 3, axis=1), marker='s', edgecolors=(0,0,0))"
   ]
  },
  {
   "cell_type": "code",
   "execution_count": 83,
   "metadata": {
    "collapsed": false
   },
   "outputs": [
    {
     "data": {
      "image/png": "[encoded data removed]",
      "text/plain": [
       "<matplotlib.figure.Figure at 0x20c959caa58>"
      ]
     },
     "metadata": {},
     "output_type": "display_data"
    }
   ],
   "source": [
    "np.random.seed(100)\n",
    "  \n",
    "# get the training dataset\n",
    "X, Y_ = sample_gauss_2d(2, 100)\n",
    "\n",
    "# get the class predictions\n",
    "Y = myDummyDecision(X) > 0.5\n",
    "\n",
    "# graph the data points\n",
    "graph_data(X, Y_, Y) \n",
    "\n",
    "# show the results\n",
    "plt.show()"
   ]
  },
  {
   "cell_type": "markdown",
   "metadata": {},
   "source": [
    "### 4. Iscrtavanje funkcije odluke"
   ]
  },
  {
   "cell_type": "code",
   "execution_count": 84,
   "metadata": {
    "collapsed": true
   },
   "outputs": [],
   "source": [
    "from matplotlib import _cntr as cntr\n",
    "\n",
    "def graph_surface(fun, rect, offset=0):\n",
    "    xmin,ymin = rect[0]\n",
    "    xmax,ymax = rect[1]\n",
    "    x_range = np.linspace(xmin, xmax, num=1000)\n",
    "    y_range = np.linspace(ymin, ymax, num=1000)\n",
    "    x,y = np.meshgrid(x_range, y_range)\n",
    "    grid = np.stack((x.flatten(), y.flatten())).transpose()\n",
    "    dec = fun(grid)\n",
    "    \n",
    "    delta = np.abs(dec - offset).max()\n",
    "    #decision_boundary\n",
    "    c = cntr.Cntr(x, y, dec.reshape(x.shape))\n",
    "    # trace a contour at z == 0.5\n",
    "    res = c.trace(offset)\n",
    "    # result is a list of arrays of vertices and path codes\n",
    "    # (see docs for matplotlib.path.Path)\n",
    "    nseg = len(res) // 2\n",
    "    segments, codes = res[:nseg], res[nseg:]\n",
    "    plt.plot(segments[0][:,0], segments[0][:,1], color=(0,0,0))\n",
    "    \n",
    "    plt.pcolormesh(x, y, dec.reshape(x.shape), vmin = offset-delta, vmax=offset+delta)\n",
    "\n",
    "    #dec = (dec - np.min(dec))/(np.max(dec)-np.min(dec))*2*offset\n",
    "    #print np.min(dec),np.max(dec),offset"
   ]
  },
  {
   "cell_type": "code",
   "execution_count": 85,
   "metadata": {
    "collapsed": false
   },
   "outputs": [
    {
     "data": {
      "image/png": "[encoded data removed]",
      "text/plain": [
       "<matplotlib.figure.Figure at 0x20c9579e3c8>"
      ]
     },
     "metadata": {},
     "output_type": "display_data"
    }
   ],
   "source": [
    "bbox=(np.min(X, axis=0), np.max(X, axis=0))\n",
    "graph_surface(myDummyDecision, bbox, offset=0)"
   ]
  },
  {
   "cell_type": "markdown",
   "metadata": {},
   "source": [
    "### 5. Grafički prikaz binarne logističke regresije"
   ]
  },
  {
   "cell_type": "code",
   "execution_count": 90,
   "metadata": {
    "collapsed": true
   },
   "outputs": [],
   "source": [
    "def binlogreg_decfun(w, b):\n",
    "    def classify(X):\n",
    "        return binlogreg_classify(X, w, b)\n",
    "    return classify"
   ]
  },
  {
   "cell_type": "code",
   "execution_count": 96,
   "metadata": {
    "collapsed": false
   },
   "outputs": [
    {
     "name": "stdout",
     "output_type": "stream",
     "text": [
      "0.97 0.99 0.9519230769230769 0.996576760125\n"
     ]
    },
    {
     "data": {
      "image/png": "[encoded data removed]",
      "text/plain": [
       "<matplotlib.figure.Figure at 0x20c9591d5f8>"
      ]
     },
     "metadata": {},
     "output_type": "display_data"
    }
   ],
   "source": [
    "np.random.seed(100)\n",
    "\n",
    "# instantiate the dataset\n",
    "X,Y_ = sample_gauss_2d(2, 100)\n",
    "\n",
    "# train the logistic regression model\n",
    "w, b = binlogreg_train(X, Y_)\n",
    "\n",
    "# evaluate the model on the train set\n",
    "probs = binlogreg_classify(X, w, b)\n",
    "\n",
    "# recover the predicted classes Y\n",
    "Y = probs > 0.5\n",
    "Y = Y.reshape(-1, 1)\n",
    "\n",
    "# evaluate and print performance measures\n",
    "acc, recall, precision = eval_perf_binary(Y, Y_)\n",
    "AP = eval_AP(Y_[probs.flatten().argsort()])\n",
    "print(acc, recall, precision, AP)\n",
    "\n",
    "# graph the decision surface\n",
    "decfun = binlogreg_decfun(w, b)\n",
    "bbox=(np.min(X, axis=0), np.max(X, axis=0))\n",
    "graph_surface(decfun, bbox, offset=0.5)\n",
    "\n",
    "# graph the data points\n",
    "graph_data(X, Y_, Y)\n",
    "\n",
    "# show the plot\n",
    "plt.show()"
   ]
  },
  {
   "cell_type": "markdown",
   "metadata": {},
   "source": [
    "### 6. Višerazredna logistička regresija"
   ]
  },
  {
   "cell_type": "code",
   "execution_count": 97,
   "metadata": {
    "collapsed": true
   },
   "outputs": [],
   "source": [
    "def logreg_train(X, Y_, param_niter=100, param_delta=0.6, verbose=False):\n",
    "    # eksponencirane klasifikacijske mjere\n",
    "    # pri računanju softmaksa obratite pažnju\n",
    "    # na odjeljak 4.1 udžbenika\n",
    "    # (Deep Learning, Goodfellow et al)!\n",
    "    scores = ...    # N x C\n",
    "    expscores = ... # N x C\n",
    "\n",
    "    # nazivnik sofmaksa\n",
    "    sumexp = ...    # N x 1\n",
    "\n",
    "    # logaritmirane vjerojatnosti razreda \n",
    "    probs = ...     # N x C\n",
    "    logprobs = ...  # N x C\n",
    "\n",
    "    # gubitak\n",
    "    loss  = ...     # scalar\n",
    "\n",
    "    # dijagnostički ispis\n",
    "    if verbose and i % 10 == 0:\n",
    "        print(\"iteration {}: loss {}\".format(i, loss))\n",
    "\n",
    "    # derivacije komponenata gubitka po mjerama\n",
    "    dL_ds = ...     # N x C\n",
    "\n",
    "    # gradijenti parametara\n",
    "    grad_W = ...    # C x D (ili D x C)\n",
    "    grad_b = ...    # C x 1 (ili 1 x C)\n",
    "\n",
    "    # poboljšani parametri\n",
    "    W += -param_delta * grad_W\n",
    "    b += -param_delta * grad_b"
   ]
  },
  {
   "cell_type": "code",
   "execution_count": null,
   "metadata": {
    "collapsed": true
   },
   "outputs": [],
   "source": [
    "# todo:"
   ]
  }
 ],
 "metadata": {
  "anaconda-cloud": {},
  "kernelspec": {
   "display_name": "Python 3",
   "language": "python",
   "name": "python3"
  },
  "language_info": {
   "codemirror_mode": {
    "name": "ipython",
    "version": 3
   },
   "file_extension": ".py",
   "mimetype": "text/x-python",
   "name": "python",
   "nbconvert_exporter": "python",
   "pygments_lexer": "ipython3",
   "version": "3.6.3"
  }
 },
 "nbformat": 4,
 "nbformat_minor": 1
}
