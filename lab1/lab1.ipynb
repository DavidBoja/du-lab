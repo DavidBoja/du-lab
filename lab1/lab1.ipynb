{
 "cells": [
  {
   "cell_type": "code",
   "execution_count": 1,
   "metadata": {},
   "outputs": [
    {
     "name": "stdout",
     "output_type": "stream",
     "text": [
      "Populating the interactive namespace from numpy and matplotlib\n"
     ]
    }
   ],
   "source": [
    "import tensorflow as tf\n",
    "import numpy as np\n",
    "import matplotlib.pyplot as plt\n",
    "import data\n",
    "%pylab inline"
   ]
  },
  {
   "cell_type": "code",
   "execution_count": 67,
   "metadata": {
    "collapsed": true
   },
   "outputs": [],
   "source": [
    "def visualize_results(X, Y_, Y, func, special=[]):\n",
    "    # graph the decision surface\n",
    "    bbox = (np.min(X, axis=0), np.max(X, axis=0))\n",
    "    xmin, ymin = bbox[0]\n",
    "    xmax, ymax = bbox[1]\n",
    "    \n",
    "    plt.figure(figsize=(10, 10))\n",
    "    plt.xlim([xmin, xmax])\n",
    "    plt.ylim([ymin, ymax])\n",
    "    \n",
    "    if False:\n",
    "        possible_labels = np.array(range(C))\n",
    "        mat = get_confusion_matrix(Y, Y_, possible_labels, True)\n",
    "        accuracy, prec, rec = eval_perf_multi(mat)\n",
    "        AP_c0 = eval_AP(expected_output[probs[:,0].argsort()],0)\n",
    "        AP_c1 = eval_AP(expected_output[probs[:,1].argsort()],1)\n",
    "\n",
    "        print()\n",
    "        print(\"Accuracy\")\n",
    "        print(accuracy)\n",
    "        print(\"Precision\")\n",
    "        print(prec)\n",
    "        print(\"Recall\")\n",
    "        print(rec)\n",
    "        for c in possible_labels:\n",
    "            print(\"AP_c%d = %f\" % (c, eval_AP(expected_output[probs[:,c].argsort()],c)))\n",
    "\n",
    "    data.graph_surface(func, bbox)\n",
    "    data.graph_data(X, Y_, Y, special=special)\n",
    "    plt.show()"
   ]
  },
  {
   "cell_type": "markdown",
   "metadata": {
    "collapsed": true
   },
   "source": [
    "### 1. Generiranje linearno nerazdvojivih podataka"
   ]
  },
  {
   "cell_type": "code",
   "execution_count": 23,
   "metadata": {
    "collapsed": true
   },
   "outputs": [],
   "source": [
    "# todo: graph_surface & graph_data"
   ]
  },
  {
   "cell_type": "code",
   "execution_count": 2,
   "metadata": {},
   "outputs": [
    {
     "name": "stdout",
     "output_type": "stream",
     "text": [
      "(120, 2)\n",
      "(120,)\n"
     ]
    }
   ],
   "source": [
    "X, Y_ = data.sample_gmm(4, 2, 30)\n",
    "\n",
    "print(X.shape)\n",
    "print(Y_.shape)"
   ]
  },
  {
   "cell_type": "markdown",
   "metadata": {},
   "source": [
    "### 2. Višeslojna klasifikacija u Pythonu"
   ]
  },
  {
   "cell_type": "code",
   "execution_count": 3,
   "metadata": {
    "collapsed": true
   },
   "outputs": [],
   "source": [
    "# todo:"
   ]
  },
  {
   "cell_type": "markdown",
   "metadata": {},
   "source": [
    "### 3. Linearna regresija u Tensorflowu"
   ]
  },
  {
   "cell_type": "code",
   "execution_count": 22,
   "metadata": {
    "collapsed": true
   },
   "outputs": [],
   "source": [
    "# todo: ispisati grads, izracunati grads i rucno azurirati tezine, ispisati s tf.Print"
   ]
  },
  {
   "cell_type": "code",
   "execution_count": 4,
   "metadata": {},
   "outputs": [
    {
     "name": "stdout",
     "output_type": "stream",
     "text": [
      "0 [  9.  25.] 2.6 1.6\n",
      "1 [ 1.44000065  3.24000072] 1.64 1.0\n",
      "2 [ 0.12960009  0.51840037] 2.0 1.216\n",
      "3 [ 0.04665603  0.04665603] 1.8704 1.1296\n",
      "4 [ 0.          0.01679617] 1.92224 1.15552\n",
      "5 [ 0.00604665  0.        ] 1.90669 1.13997\n",
      "6 [ 0.00217679  0.00217679] 1.91602 1.13997\n",
      "7 [ 0.00313458  0.00078365] 1.91602 1.13437\n",
      "8 [ 0.00253898  0.00112844] 1.91938 1.13101\n",
      "9 [ 0.00253898  0.00091406] 1.92139 1.12698\n",
      "10 [ 0.00233997  0.000914  ] 1.92381 1.12335\n",
      "11 [ 0.00222439  0.0008424 ] 1.92599 1.11972\n",
      "12 [ 0.00208963  0.0008008 ] 1.92817 1.11624\n",
      "13 [ 0.00197193  0.00075225] 1.93026 1.11284\n",
      "14 [ 0.00185764  0.00070989] 1.93229 1.10955\n",
      "15 [ 0.00175111  0.00066876] 1.93427 1.10636\n",
      "16 [ 0.00165032  0.0006304 ] 1.93619 1.10325\n",
      "17 [ 0.00155545  0.00059412] 1.93805 1.10024\n",
      "18 [ 0.00146598  0.00055996] 1.93986 1.09731\n",
      "19 [ 0.00138167  0.00052776] 1.94161 1.09448\n",
      "20 [ 0.00130224  0.00049741] 1.94331 1.09172\n",
      "21 [ 0.00122733  0.0004688 ] 1.94497 1.08904\n",
      "22 [ 0.00115676  0.00044184] 1.94657 1.08644\n",
      "23 [ 0.00109023  0.00041643] 1.94813 1.08392\n",
      "24 [ 0.00102755  0.00039248] 1.94965 1.08147\n",
      "25 [ 0.00096844  0.00036992] 1.95112 1.0791\n",
      "26 [ 0.00091276  0.00034863] 1.95254 1.07679\n",
      "27 [ 0.00086025  0.0003286 ] 1.95393 1.07455\n",
      "28 [ 0.00081079  0.00030969] 1.95527 1.07237\n",
      "29 [ 0.00076417  0.00029187] 1.95658 1.07026\n",
      "30 [ 0.0007202   0.00027511] 1.95784 1.06821\n",
      "31 [ 0.00067881  0.00025927] 1.95907 1.06622\n",
      "32 [ 0.00063975  0.00024438] 1.96027 1.06429\n",
      "33 [ 0.00060298  0.00023031] 1.96143 1.06241\n",
      "34 [ 0.00056829  0.00021707] 1.96255 1.06059\n",
      "35 [ 0.00053561  0.00020458] 1.96365 1.05882\n",
      "36 [ 0.00050482  0.00019282] 1.96471 1.05711\n",
      "37 [ 0.00047578  0.00018174] 1.96574 1.05544\n",
      "38 [ 0.00044842  0.00017128] 1.96674 1.05382\n",
      "39 [ 0.00042263  0.00016144] 1.96771 1.05225\n",
      "40 [ 0.00039833  0.00015215] 1.96865 1.05073\n",
      "41 [ 0.00037542  0.0001434 ] 1.96956 1.04925\n",
      "42 [ 0.00035383  0.00013515] 1.97045 1.04781\n",
      "43 [ 0.00033348  0.00012738] 1.97131 1.04641\n",
      "44 [ 0.00031431  0.00012005] 1.97215 1.04506\n",
      "45 [ 0.00029623  0.00011315] 1.97296 1.04375\n",
      "46 [ 0.00027919  0.00010664] 1.97375 1.04247\n",
      "47 [ 0.00026314  0.00010051] 1.97452 1.04123\n",
      "48 [  2.48007767e-04   9.47259032e-05] 1.97526 1.04003\n",
      "49 [  2.33741026e-04   8.92836979e-05] 1.97598 1.03886\n",
      "50 [  2.20300106e-04   8.41511428e-05] 1.97669 1.03772\n",
      "51 [  2.07634905e-04   7.93063373e-05] 1.97737 1.03662\n",
      "52 [  1.95691333e-04   7.47452650e-05] 1.97803 1.03556\n",
      "53 [  1.84438104e-04   7.04472768e-05] 1.97867 1.03452\n",
      "54 [  1.73832290e-04   6.64008257e-05] 1.97929 1.03351\n",
      "55 [  1.63833334e-04   6.25796238e-05] 1.97989 1.03253\n",
      "56 [  1.54414825e-04   5.89814663e-05] 1.98048 1.03158\n",
      "57 [  1.45539612e-04   5.55893384e-05] 1.98105 1.03066\n",
      "58 [  1.37167095e-04   5.23942617e-05] 1.9816 1.02977\n",
      "59 [  1.29281034e-04   4.93741245e-05] 1.98214 1.0289\n",
      "60 [  1.21844139e-04   4.65411758e-05] 1.98266 1.02806\n",
      "61 [  1.14831833e-04   4.38676798e-05] 1.98317 1.02724\n",
      "62 [  1.08235581e-04   4.13345551e-05] 1.98366 1.02644\n",
      "63 [  1.02007732e-04   3.89660017e-05] 1.98413 1.02567\n",
      "64 [  9.61419937e-05   3.67193170e-05] 1.9846 1.02492\n",
      "65 [  9.06087298e-05   3.46122397e-05] 1.98505 1.02419\n",
      "66 [  8.53980018e-05   3.26218651e-05] 1.98548 1.02349\n",
      "67 [  8.04912415e-05   3.07432820e-05] 1.98591 1.0228\n",
      "68 [  7.58624883e-05   2.89768468e-05] 1.98632 1.02214\n",
      "69 [  7.14997659e-05   2.73124897e-05] 1.98672 1.02149\n",
      "70 [  6.73914328e-05   2.57360443e-05] 1.98711 1.02086\n",
      "71 [  6.35110118e-05   2.42627957e-05] 1.98748 1.02026\n",
      "72 [  5.98636398e-05   2.28603149e-05] 1.98785 1.01966\n",
      "73 [  5.64136280e-05   2.15526816e-05] 1.9882 1.01909\n",
      "74 [  5.31737351e-05   2.03093350e-05] 1.98855 1.01853\n",
      "75 [  5.01140021e-05   1.91404579e-05] 1.98888 1.01799\n",
      "76 [  4.72333741e-05   1.80426614e-05] 1.9892 1.01747\n",
      "77 [  4.45143232e-05   1.70048006e-05] 1.98952 1.01696\n",
      "78 [  4.19561402e-05   1.60243926e-05] 1.98983 1.01646\n",
      "79 [  3.95455900e-05   1.51027280e-05] 1.99012 1.01598\n",
      "80 [  3.72703689e-05   1.42371318e-05] 1.99041 1.01552\n",
      "81 [  3.51246963e-05   1.34180309e-05] 1.99069 1.01506\n",
      "82 [  3.31084484e-05   1.26435334e-05] 1.99096 1.01462\n",
      "83 [  3.11997137e-05   1.19183824e-05] 1.99123 1.0142\n",
      "84 [  2.94096772e-05   1.12306188e-05] 1.99148 1.01378\n",
      "85 [  2.77126674e-05   1.05881045e-05] 1.99173 1.01338\n",
      "86 [  2.61221066e-05   9.97957250e-06] 1.99197 1.01299\n",
      "87 [  2.46211202e-05   9.40366590e-06] 1.99221 1.01261\n",
      "88 [  2.32035745e-05   8.86473936e-06] 1.99243 1.01224\n",
      "89 [  2.18726345e-05   8.34997991e-06] 1.99265 1.01189\n",
      "90 [  2.06112963e-05   7.87468343e-06] 1.99287 1.01154\n",
      "91 [  1.94273289e-05   7.42110615e-06] 1.99308 1.0112\n",
      "92 [  1.83110114e-05   6.99358588e-06] 1.99328 1.01088\n",
      "93 [  1.72574219e-05   6.59098441e-06] 1.99347 1.01056\n",
      "94 [  1.62658052e-05   6.21219624e-06] 1.99366 1.01025\n",
      "95 [  1.53296514e-05   5.85615135e-06] 1.99385 1.00995\n",
      "96 [  1.44466048e-05   5.51957055e-06] 1.99403 1.00966\n",
      "97 [  1.36178915e-05   5.19947298e-06] 1.9942 1.00938\n",
      "98 [  1.28324373e-05   4.90370803e-06] 1.99437 1.00911\n",
      "99 [  1.20968334e-05   4.62070238e-06] 1.99454 1.00884\n"
     ]
    }
   ],
   "source": [
    "## 1. definicija računskog grafa\n",
    "# podatci i parametri\n",
    "X  = tf.placeholder(tf.float32, [None])\n",
    "Y_ = tf.placeholder(tf.float32, [None])\n",
    "a = tf.Variable(0.0)\n",
    "b = tf.Variable(0.0)\n",
    "\n",
    "# afini regresijski model\n",
    "Y = a * X + b\n",
    "\n",
    "# kvadratni gubitak\n",
    "loss = (Y - Y_)**2\n",
    "\n",
    "# optimizacijski postupak: gradijentni spust\n",
    "trainer = tf.train.GradientDescentOptimizer(0.1)\n",
    "\n",
    "# train_op = trainer.minimize(loss) # isto kao sljedeca dva reda\n",
    "grads_and_vars = trainer.compute_gradients(loss)\n",
    "train_op = trainer.apply_gradients(grads_and_vars)\n",
    "\n",
    "## 2. inicijalizacija parametara\n",
    "sess = tf.Session()\n",
    "sess.run(tf.global_variables_initializer())\n",
    "\n",
    "## 3. učenje\n",
    "# neka igre počnu!\n",
    "for i in range(100):\n",
    "    val_loss, _, val_a, val_b = sess.run([loss, train_op, a, b], \n",
    "        feed_dict={X: [1,2], Y_: [3,5]})\n",
    "    print(i, val_loss, val_a, val_b)"
   ]
  },
  {
   "cell_type": "markdown",
   "metadata": {},
   "source": [
    "### 4. Logistička regresija u Tensorflowu"
   ]
  },
  {
   "cell_type": "code",
   "execution_count": 24,
   "metadata": {
    "collapsed": true
   },
   "outputs": [],
   "source": [
    "# todo: kako najbolje pazit jel float32 ili float64"
   ]
  },
  {
   "cell_type": "code",
   "execution_count": 50,
   "metadata": {
    "collapsed": true
   },
   "outputs": [],
   "source": [
    "class TFLogreg:\n",
    "    def __init__(self, D, C, param_delta=0.5):\n",
    "        \"\"\"Arguments:\n",
    "           - D: dimensions of each datapoint \n",
    "           - C: number of classes\n",
    "           - param_delta: training step\n",
    "        \"\"\"\n",
    "\n",
    "        # definicija podataka i parametara:\n",
    "        # definirati self.X, self.Yoh_, self.W, self.b\n",
    "        self.X = tf.placeholder(tf.float32, [None, D])\n",
    "        self.Yoh_ = tf.placeholder(tf.float32, [None, C])\n",
    "        self.W = tf.Variable(tf.random_normal([D, C]))\n",
    "        self.b = tf.Variable(tf.random_normal([C]))\n",
    "\n",
    "        # formulacija modela: izračunati self.probs\n",
    "        #   koristiti: tf.matmul, tf.nn.softmax\n",
    "        self.score = tf.nn.softmax(tf.matmul(self.X, self.W) + self.b)\n",
    "        self.softmax = tf.nn.softmax(self.score)\n",
    "\n",
    "        # formulacija gubitka: self.loss\n",
    "        #   koristiti: tf.log, tf.reduce_sum, tf.reduce_mean\n",
    "        self.loss = tf.reduce_mean(-tf.reduce_sum(self.Yoh_ * tf.log(self.softmax), reduction_indices=1))\n",
    "        # + param_lambda * tf.nn.l2_loss(self.W) # L2 regularizacija\n",
    "\n",
    "        # formulacija operacije učenja: self.train_step\n",
    "        #   koristiti: tf.train.GradientDescentOptimizer,\n",
    "        #              tf.train.GradientDescentOptimizer.minimize\n",
    "        self.trainer = tf.train.GradientDescentOptimizer(param_delta)\n",
    "        self.optimizer = self.trainer.minimize(self.loss)\n",
    "        \n",
    "        # instanciranje izvedbenog konteksta: self.session\n",
    "        #   koristiti: tf.Session\n",
    "        self.session = tf.Session()\n",
    "\n",
    "    def train(self, X, Yoh_, param_niter, verbose=False):\n",
    "        \"\"\"Arguments:\n",
    "           - X: actual datapoints [NxD]\n",
    "           - Yoh_: one-hot encoded labels [NxC]\n",
    "           - param_niter: number of iterations\n",
    "        \"\"\"\n",
    "        # incijalizacija parametara\n",
    "        #   koristiti: tf.initialize_all_variables\n",
    "        init = tf.global_variables_initializer()\n",
    "\n",
    "        # optimizacijska petlja\n",
    "        #   koristiti: tf.Session.run\n",
    "        self.session.run(init)\n",
    "        \n",
    "        # Training cycle\n",
    "        for i in range(param_niter):\n",
    "            _, val_loss = self.session.run([self.optimizer, self.loss],\n",
    "                                           feed_dict={self.X: X, self.Yoh_: Yoh_})\n",
    "            \n",
    "            if verbose and i % 10 == 0:\n",
    "                print(i, val_loss)\n",
    "\n",
    "    def eval(self, X):\n",
    "        \"\"\"Arguments:\n",
    "           - X: actual datapoints [NxD]\n",
    "           Returns: predicted class probabilites [NxC]\n",
    "        \"\"\"\n",
    "        \n",
    "        return self.session.run(self.softmax, feed_dict={self.X: X})"
   ]
  },
  {
   "cell_type": "code",
   "execution_count": 68,
   "metadata": {},
   "outputs": [
    {
     "data": {
      "image/png": "[encoded data removed]",
      "text/plain": [
       "<matplotlib.figure.Figure at 0x10f845710>"
      ]
     },
     "metadata": {},
     "output_type": "display_data"
    }
   ],
   "source": [
    "# inicijaliziraj generatore slučajnih brojeva\n",
    "np.random.seed(2612)\n",
    "tf.set_random_seed(100)\n",
    "\n",
    "verbose = False\n",
    "dim = 2\n",
    "K = 6\n",
    "C = 2\n",
    "N = 30\n",
    "param_delta = 0.5\n",
    "param_niter = 1000\n",
    "\n",
    "# instanciraj podatke X i labele Yoh_\n",
    "X, Y_ = data.sample_gmm(K, C, N)\n",
    "Yoh_ = data.class_to_onehot(Y_)\n",
    "\n",
    "# izgradi graf:\n",
    "tflr = TFLogreg(dim, C, param_delta)\n",
    "\n",
    "# nauči parametre:\n",
    "tflr.train(X, Yoh_, param_niter, verbose=verbose)\n",
    "\n",
    "# dohvati vjerojatnosti na skupu za učenje\n",
    "probs = tflr.eval(X)\n",
    "Y = probs[:,1] > 0.5\n",
    "\n",
    "# ispiši performansu (preciznost i odziv po razredima)\n",
    "\n",
    "\n",
    "# iscrtaj rezultate, decizijsku plohu\n",
    "def func(X):\n",
    "    return tflr.eval(X)[:,1]\n",
    "\n",
    "visualize_results(X, Y_, Y, func)"
   ]
  },
  {
   "cell_type": "code",
   "execution_count": null,
   "metadata": {
    "collapsed": true
   },
   "outputs": [],
   "source": []
  }
 ],
 "metadata": {
  "anaconda-cloud": {},
  "kernelspec": {
   "display_name": "Python 3",
   "language": "python3",
   "name": "python3"
  },
  "language_info": {
   "codemirror_mode": {
    "name": "ipython",
    "version": 3
   },
   "file_extension": ".py",
   "mimetype": "text/x-python",
   "name": "python",
   "nbconvert_exporter": "python",
   "pygments_lexer": "ipython3",
   "version": "3.6.3"
  }
 },
 "nbformat": 4,
 "nbformat_minor": 1
}
