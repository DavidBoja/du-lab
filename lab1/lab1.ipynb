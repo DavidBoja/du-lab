{
 "cells": [
  {
   "cell_type": "code",
   "execution_count": 68,
   "metadata": {
    "collapsed": false
   },
   "outputs": [
    {
     "name": "stdout",
     "output_type": "stream",
     "text": [
      "Populating the interactive namespace from numpy and matplotlib\n"
     ]
    }
   ],
   "source": [
    "import tensorflow as tf\n",
    "import numpy as np\n",
    "import matplotlib.pyplot as plt\n",
    "from sklearn import svm\n",
    "import data\n",
    "%pylab inline"
   ]
  },
  {
   "cell_type": "code",
   "execution_count": 72,
   "metadata": {
    "collapsed": true
   },
   "outputs": [],
   "source": [
    "def visualize_results(X, Y, Y_, func, special=[]):\n",
    "    bbox = (np.min(X, axis=0), np.max(X, axis=0))\n",
    "    xmin, ymin = bbox[0]\n",
    "    xmax, ymax = bbox[1]\n",
    "    \n",
    "    plt.figure(figsize=(10, 10))\n",
    "    plt.xlim([xmin, xmax])\n",
    "    plt.ylim([ymin, ymax])\n",
    "\n",
    "    data.graph_surface(func, bbox)\n",
    "    data.graph_data(X, Y_, Y, special=special)\n",
    "    plt.show()"
   ]
  },
  {
   "cell_type": "markdown",
   "metadata": {
    "collapsed": true
   },
   "source": [
    "### 1. Generiranje linearno nerazdvojivih podataka"
   ]
  },
  {
   "cell_type": "code",
   "execution_count": 3,
   "metadata": {
    "collapsed": true
   },
   "outputs": [],
   "source": [
    "# todo: graph_surface & graph_data"
   ]
  },
  {
   "cell_type": "code",
   "execution_count": 4,
   "metadata": {
    "collapsed": false
   },
   "outputs": [
    {
     "name": "stdout",
     "output_type": "stream",
     "text": [
      "(120, 2)\n",
      "(120,)\n"
     ]
    }
   ],
   "source": [
    "X, Y_ = data.sample_gmm(4, 2, 30)\n",
    "\n",
    "print(X.shape)\n",
    "print(Y_.shape)"
   ]
  },
  {
   "cell_type": "markdown",
   "metadata": {},
   "source": [
    "### 2. Višeslojna klasifikacija u Pythonu"
   ]
  },
  {
   "cell_type": "code",
   "execution_count": 5,
   "metadata": {
    "collapsed": true
   },
   "outputs": [],
   "source": [
    "# todo:"
   ]
  },
  {
   "cell_type": "markdown",
   "metadata": {},
   "source": [
    "### 3. Linearna regresija u Tensorflowu"
   ]
  },
  {
   "cell_type": "code",
   "execution_count": 6,
   "metadata": {
    "collapsed": true
   },
   "outputs": [],
   "source": [
    "# todo: ispisati grads, izracunati grads i rucno azurirati tezine, ispisati s tf.Print"
   ]
  },
  {
   "cell_type": "code",
   "execution_count": 7,
   "metadata": {
    "collapsed": false
   },
   "outputs": [
    {
     "name": "stdout",
     "output_type": "stream",
     "text": [
      "0 [  9.  25.] 2.6 1.6\n",
      "10 [ 0.00233997  0.000914  ] 1.92381 1.12335\n",
      "20 [ 0.00130224  0.00049741] 1.94331 1.09172\n",
      "30 [ 0.0007202   0.00027511] 1.95784 1.06821\n",
      "40 [ 0.00039833  0.00015215] 1.96865 1.05073\n",
      "50 [  2.20300106e-04   8.41511428e-05] 1.97669 1.03772\n",
      "60 [  1.21844139e-04   4.65411758e-05] 1.98266 1.02806\n",
      "70 [  6.73914328e-05   2.57360443e-05] 1.98711 1.02086\n",
      "80 [  3.72703689e-05   1.42371318e-05] 1.99041 1.01552\n",
      "90 [  2.06112963e-05   7.87468343e-06] 1.99287 1.01154\n"
     ]
    }
   ],
   "source": [
    "## 1. definicija računskog grafa\n",
    "# podatci i parametri\n",
    "X  = tf.placeholder(tf.float32, [None])\n",
    "Y_ = tf.placeholder(tf.float32, [None])\n",
    "a = tf.Variable(0.0)\n",
    "b = tf.Variable(0.0)\n",
    "\n",
    "# afini regresijski model\n",
    "Y = a * X + b\n",
    "\n",
    "# kvadratni gubitak\n",
    "loss = (Y - Y_)**2\n",
    "\n",
    "# optimizacijski postupak: gradijentni spust\n",
    "trainer = tf.train.GradientDescentOptimizer(0.1)\n",
    "\n",
    "# train_op = trainer.minimize(loss) # isto kao sljedeca dva reda\n",
    "grads_and_vars = trainer.compute_gradients(loss)\n",
    "train_op = trainer.apply_gradients(grads_and_vars)\n",
    "\n",
    "## 2. inicijalizacija parametara\n",
    "sess = tf.Session()\n",
    "sess.run(tf.global_variables_initializer())\n",
    "\n",
    "## 3. učenje\n",
    "# neka igre počnu!\n",
    "for i in range(100):\n",
    "    val_loss, _, val_a, val_b = sess.run([loss, train_op, a, b], \n",
    "        feed_dict={X: [1,2], Y_: [3,5]})\n",
    "    \n",
    "    if i % 10 == 0:\n",
    "        print(i, val_loss, val_a, val_b)"
   ]
  },
  {
   "cell_type": "markdown",
   "metadata": {},
   "source": [
    "### 4. Logistička regresija u Tensorflowu"
   ]
  },
  {
   "cell_type": "code",
   "execution_count": 8,
   "metadata": {
    "collapsed": true
   },
   "outputs": [],
   "source": [
    "# todo: kako najbolje pazit jel float32 ili float64"
   ]
  },
  {
   "cell_type": "code",
   "execution_count": 62,
   "metadata": {
    "collapsed": false
   },
   "outputs": [],
   "source": [
    "class TFLogreg:\n",
    "    def __init__(self, D, C, param_delta=0.1):\n",
    "        \"\"\"Arguments:\n",
    "           - D: dimensions of each datapoint \n",
    "           - C: number of classes\n",
    "           - param_delta: training step\n",
    "        \"\"\"\n",
    "\n",
    "        # definicija podataka i parametara:\n",
    "        # definirati self.X, self.Yoh_, self.W, self.b\n",
    "        self.X = tf.placeholder(tf.float32, [None, D])\n",
    "        self.Yoh_ = tf.placeholder(tf.float32, [None, C])\n",
    "        self.W = tf.Variable(tf.random_normal([D, C]))\n",
    "        self.b = tf.Variable(tf.random_normal([C]))\n",
    "\n",
    "        # formulacija modela: izračunati self.probs\n",
    "        #   koristiti: tf.matmul, tf.nn.softmax\n",
    "        self.score = tf.matmul(self.X, self.W) + self.b\n",
    "        self.probs = tf.nn.softmax(self.score)\n",
    "\n",
    "        # formulacija gubitka: self.loss\n",
    "        #   koristiti: tf.log, tf.reduce_sum, tf.reduce_mean\n",
    "        self.loss = tf.reduce_mean(-tf.reduce_sum(self.Yoh_ * tf.log(self.probs), reduction_indices=1))\n",
    "        # + param_lambda * tf.nn.l2_loss(self.W) # L2 regularizacija\n",
    "\n",
    "        # formulacija operacije učenja: self.train_step\n",
    "        #   koristiti: tf.train.GradientDescentOptimizer,\n",
    "        #              tf.train.GradientDescentOptimizer.minimize\n",
    "        self.trainer = tf.train.GradientDescentOptimizer(param_delta)\n",
    "        self.optimizer = self.trainer.minimize(self.loss)\n",
    "        \n",
    "        # instanciranje izvedbenog konteksta: self.session\n",
    "        #   koristiti: tf.Session\n",
    "        self.session = tf.Session()\n",
    "\n",
    "    def train(self, X, Yoh_, param_niter, verbose=False, print_every=100):\n",
    "        \"\"\"Arguments:\n",
    "           - X: actual datapoints [NxD]\n",
    "           - Yoh_: one-hot encoded labels [NxC]\n",
    "           - param_niter: number of iterations\n",
    "        \"\"\"\n",
    "        # incijalizacija parametara\n",
    "        #   koristiti: tf.initialize_all_variables\n",
    "        init = tf.global_variables_initializer()\n",
    "\n",
    "        # optimizacijska petlja\n",
    "        #   koristiti: tf.Session.run\n",
    "        self.session.run(init)\n",
    "        \n",
    "        # Training cycle\n",
    "        for i in range(param_niter):\n",
    "            _, val_loss = self.session.run([self.optimizer, self.loss],\n",
    "                                           feed_dict={self.X: X, self.Yoh_: Yoh_})\n",
    "            \n",
    "            if verbose and i % print_every == 0:\n",
    "                print(i, val_loss)\n",
    "\n",
    "    def eval(self, X):\n",
    "        \"\"\"Arguments:\n",
    "           - X: actual datapoints [NxD]\n",
    "           Returns: predicted class probabilites [NxC]\n",
    "        \"\"\"\n",
    "        \n",
    "        return self.session.run(self.probs, feed_dict={self.X: X})\n",
    "    \n",
    "    def accuracy(self, X, Yoh_):\n",
    "        correct_prediction = tf.equal(tf.argmax(self.probs, 1), tf.argmax(self.Yoh_, 1))\n",
    "        accuracy = tf.reduce_mean(tf.cast(correct_prediction, tf.float32))\n",
    "        return accuracy.eval({self.X: X, self.Yoh_: Yoh_}, session=self.session)"
   ]
  },
  {
   "cell_type": "code",
   "execution_count": 81,
   "metadata": {
    "collapsed": false
   },
   "outputs": [
    {
     "name": "stdout",
     "output_type": "stream",
     "text": [
      "0 0.825632\n",
      "100 0.13496\n",
      "200 0.127769\n",
      "300 0.124067\n",
      "400 0.121975\n",
      "500 0.120715\n",
      "600 0.119922\n",
      "700 0.119405\n",
      "800 0.119059\n",
      "900 0.118824\n",
      "Accuracy: 0.938889\n"
     ]
    },
    {
     "data": {
      "image/png": "[encoded data removed]",
      "text/plain": [
       "<matplotlib.figure.Figure at 0x25c5c8ad630>"
      ]
     },
     "metadata": {},
     "output_type": "display_data"
    }
   ],
   "source": [
    "# inicijaliziraj generatore slučajnih brojeva\n",
    "# tf.set_random_seed(100)\n",
    "np.random.seed(505)\n",
    "\n",
    "verbose = True\n",
    "print_every = 100\n",
    "dim = 2\n",
    "K = 6\n",
    "C = 2\n",
    "N = 30\n",
    "param_delta = 0.5\n",
    "param_niter = 1000\n",
    "\n",
    "# instanciraj podatke X i labele Yoh_\n",
    "X, Y_ = data.sample_gmm(K, C, N)\n",
    "Yoh_ = data.class_to_onehot(Y_)\n",
    "\n",
    "# izgradi graf:\n",
    "tflr = TFLogreg(dim, C, param_delta)\n",
    "\n",
    "# nauči parametre:\n",
    "tflr.train(X, Yoh_, param_niter, verbose, print_every)\n",
    "\n",
    "# dohvati vjerojatnosti na skupu za učenje\n",
    "probs = tflr.eval(X)\n",
    "Y = probs[:,1] > 0.5\n",
    "\n",
    "# ispiši performansu (preciznost i odziv po razredima)\n",
    "# Test model\n",
    "print('Accuracy:', tflr.accuracy(X, Yoh_))\n",
    "\n",
    "# iscrtaj rezultate, decizijsku plohu\n",
    "def predict_c1_class(tflr):\n",
    "    def classify(X):\n",
    "        return tflr.eval(X)[:,1]\n",
    "    return classify\n",
    "\n",
    "decfun = predict_c1_class(tflr)\n",
    "visualize_results(X, Y, Y_, decfun)\n",
    "plt.show()"
   ]
  },
  {
   "cell_type": "markdown",
   "metadata": {
    "collapsed": true
   },
   "source": [
    "### 5. Konfigurabilni duboki modeli u Tensorflowu"
   ]
  },
  {
   "cell_type": "code",
   "execution_count": 58,
   "metadata": {
    "collapsed": true
   },
   "outputs": [],
   "source": [
    "# todo: debug, simbolicka imena"
   ]
  },
  {
   "cell_type": "code",
   "execution_count": 66,
   "metadata": {
    "collapsed": true
   },
   "outputs": [],
   "source": [
    "class TFDeep:\n",
    "    def __init__(self, layers, param_delta=0.1, activation=tf.nn.relu):\n",
    "        self.X = tf.placeholder(tf.float32, [None, layers[0]])\n",
    "        self.Yoh_ = tf.placeholder(tf.float32, [None, layers[-1]])\n",
    "        self.W = []\n",
    "        self.b = []\n",
    "        \n",
    "        prev = layers[0]\n",
    "        out = self.X\n",
    "        for dim in layers[1:-1]:\n",
    "            temp_W = tf.Variable(tf.random_normal([prev, dim]))\n",
    "            temp_b = tf.Variable(tf.random_normal([dim]))                \n",
    "            self.W.append(temp_W)\n",
    "            self.b.append(temp_b)\n",
    "            \n",
    "            out = tf.matmul(out, temp_W) + temp_b\n",
    "            out = activation(out)\n",
    "            \n",
    "            prev = dim\n",
    "        \n",
    "        temp_W = tf.Variable(tf.random_normal([prev, layers[-1]]))\n",
    "        temp_b = tf.Variable(tf.random_normal([layers[-1]]))\n",
    "        self.W.append(temp_W)\n",
    "        self.b.append(temp_b)\n",
    "        \n",
    "        self.probs = tf.nn.softmax(tf.matmul(out, temp_W) + temp_b)\n",
    "        \n",
    "        self.loss = tf.reduce_mean(-tf.reduce_sum(self.Yoh_ * tf.log(self.probs), reduction_indices=1))\n",
    "\n",
    "        self.trainer = tf.train.GradientDescentOptimizer(param_delta)\n",
    "        self.optimizer = self.trainer.minimize(self.loss)\n",
    "        \n",
    "        self.session = tf.Session()\n",
    "    \n",
    "    def train(self, X, Yoh_, param_niter, verbose=False, print_every=100):\n",
    "        init = tf.global_variables_initializer()\n",
    "        self.session.run(init)\n",
    "\n",
    "        for i in range(param_niter):\n",
    "            _, val_loss = self.session.run([self.optimizer, self.loss],\n",
    "                                           feed_dict={self.X: X, self.Yoh_: Yoh_})\n",
    "            \n",
    "            if verbose and i % print_every == 0:\n",
    "                print(i, val_loss)\n",
    "    \n",
    "    def eval(self, X):\n",
    "        return self.session.run(self.probs, feed_dict={self.X: X})\n",
    "    \n",
    "    def accuracy(self, X, Yoh_):\n",
    "        correct_prediction = tf.equal(tf.argmax(self.probs, 1), tf.argmax(self.Yoh_, 1))\n",
    "        accuracy = tf.reduce_mean(tf.cast(correct_prediction, tf.float32))\n",
    "        return accuracy.eval({self.X: X, self.Yoh_: Yoh_}, session=self.session)"
   ]
  },
  {
   "cell_type": "code",
   "execution_count": 82,
   "metadata": {
    "collapsed": false
   },
   "outputs": [
    {
     "name": "stdout",
     "output_type": "stream",
     "text": [
      "0 nan\n",
      "1000 nan\n",
      "2000 nan\n",
      "3000 nan\n",
      "4000 nan\n",
      "5000 nan\n",
      "6000 nan\n",
      "7000 nan\n",
      "8000 nan\n",
      "9000 nan\n"
     ]
    },
    {
     "name": "stderr",
     "output_type": "stream",
     "text": [
      "C:\\Users\\tzadr\\Anaconda2\\envs\\ipykernel_py3\\lib\\site-packages\\ipykernel_launcher.py:21: RuntimeWarning: invalid value encountered in greater\n",
      "C:\\Users\\tzadr\\AppData\\Roaming\\Python\\Python36\\site-packages\\matplotlib\\contour.py:1533: UserWarning: Warning: converting a masked element to nan.\n",
      "  self.zmax = float(z.max())\n",
      "C:\\Users\\tzadr\\AppData\\Roaming\\Python\\Python36\\site-packages\\matplotlib\\contour.py:1534: UserWarning: Warning: converting a masked element to nan.\n",
      "  self.zmin = float(z.min())\n",
      "C:\\Users\\tzadr\\AppData\\Roaming\\Python\\Python36\\site-packages\\matplotlib\\contour.py:1176: RuntimeWarning: invalid value encountered in greater\n",
      "  inside = (self.levels > self.zmin) & (self.levels < self.zmax)\n",
      "C:\\Users\\tzadr\\AppData\\Roaming\\Python\\Python36\\site-packages\\matplotlib\\contour.py:1176: RuntimeWarning: invalid value encountered in less\n",
      "  inside = (self.levels > self.zmin) & (self.levels < self.zmax)\n",
      "C:\\Users\\tzadr\\AppData\\Roaming\\Python\\Python36\\site-packages\\matplotlib\\contour.py:1180: UserWarning: No contour levels were found within the data range.\n",
      "  warnings.warn(\"No contour levels were found\"\n"
     ]
    },
    {
     "name": "stdout",
     "output_type": "stream",
     "text": [
      "Accuracy: 0.5\n"
     ]
    },
    {
     "data": {
      "image/png": "[encoded data removed]",
      "text/plain": [
       "<matplotlib.figure.Figure at 0x25c5c8add30>"
      ]
     },
     "metadata": {},
     "output_type": "display_data"
    }
   ],
   "source": [
    "# np.random.seed(505)\n",
    "\n",
    "verbose = True\n",
    "print_every = 1000\n",
    "dim = 2\n",
    "K = 6\n",
    "C = 2\n",
    "N = 10\n",
    "param_delta = 0.1\n",
    "param_niter = 10000\n",
    "layers = [dim, 10, 10, C]\n",
    "\n",
    "X, Y_ = data.sample_gmm(K, C, N)\n",
    "Yoh_ = data.class_to_onehot(Y_)\n",
    "\n",
    "tfdeep = TFDeep(layers, param_delta)\n",
    "\n",
    "tfdeep.train(X, Yoh_, param_niter, verbose, print_every)\n",
    "\n",
    "probs = tfdeep.eval(X)\n",
    "Y = probs[:,1] > 0.5\n",
    "\n",
    "print('Accuracy:', tfdeep.accuracy(X, Yoh_))\n",
    "\n",
    "# iscrtaj rezultate, decizijsku plohu\n",
    "def predict_c1_class(tfdeep):\n",
    "    def classify(X):\n",
    "        return tfdeep.eval(X)[:,1]\n",
    "    return classify\n",
    "\n",
    "decfun = predict_c1_class(tfdeep)\n",
    "visualize_results(X, Y, Y_, decfun)\n",
    "plt.show()"
   ]
  },
  {
   "cell_type": "markdown",
   "metadata": {},
   "source": [
    "### 6. Usporedba s jezgrenim SVM-om"
   ]
  },
  {
   "cell_type": "code",
   "execution_count": 83,
   "metadata": {
    "collapsed": true
   },
   "outputs": [],
   "source": [
    "class KSVMWrap:\n",
    "    def __init__(self, X, Y_, param_svm_c=1, param_svm_gamma='auto'):\n",
    "        \"\"\"\n",
    "            Konstruira omotač i uči RBF SVM klasifikator\n",
    "            X,Y_:            podatci i točni indeksi razreda\n",
    "            param_svm_c:     relativni značaj podatkovne cijene\n",
    "            param_svm_gamma: širina RBF jezgre\n",
    "        \"\"\"\n",
    "        self.model = svm.SVC(C=param_svm_c, gamma=param_svm_gamma, probability=True)\n",
    "        self.model.fit(X, Y_)\n",
    "\n",
    "    def predict(self, X):\n",
    "        \"\"\"\n",
    "            Predviđa i vraća indekse razreda podataka X\n",
    "        \"\"\"\n",
    "        return self.model.fit(X, Y_)\n",
    "\n",
    "    def scores(self, X):\n",
    "        \"\"\"\n",
    "            Vraća klasifikacijske mjere podataka X\n",
    "        \"\"\"\n",
    "        return self.model.predict_proba(X)\n",
    "\n",
    "    def support(self):\n",
    "        \"\"\"\n",
    "            Indeksi podataka koji su odabrani za potporne vektore\n",
    "        \"\"\"\n",
    "        return self.model.support_\n",
    "    \n",
    "    def accuracy(self, X, Y_):\n",
    "        return self.model.score(X, Y_)"
   ]
  },
  {
   "cell_type": "code",
   "execution_count": 84,
   "metadata": {
    "collapsed": false
   },
   "outputs": [
    {
     "name": "stdout",
     "output_type": "stream",
     "text": [
      "Accuracy: 0.95\n"
     ]
    },
    {
     "data": {
      "image/png": "[encoded data removed]",
      "text/plain": [
       "<matplotlib.figure.Figure at 0x25c5e796518>"
      ]
     },
     "metadata": {},
     "output_type": "display_data"
    }
   ],
   "source": [
    "np.random.seed(505)\n",
    "\n",
    "K = 6\n",
    "C = 2\n",
    "N = 10\n",
    "param_svm_c = 1\n",
    "param_svm_gamma = 'auto'\n",
    "\n",
    "X, Y_ = data.sample_gmm(K, C, N)\n",
    "\n",
    "svm_wrap = KSVMWrap(X, Y_, param_svm_c, param_svm_gamma)\n",
    "\n",
    "probs = svm_wrap.scores(X)\n",
    "Y = probs[:,1] > 0.5\n",
    "\n",
    "print('Accuracy:', svm_wrap.accuracy(X, Y_))\n",
    "\n",
    "def predict_c1_class(svm_wrap):\n",
    "    def classify(X):\n",
    "        return svm_wrap.scores(X)[:,1]\n",
    "    return classify\n",
    "\n",
    "decfun = predict_c1_class(svm_wrap)\n",
    "visualize_results(X, Y, Y_, decfun, special=svm_wrap.support())\n",
    "plt.show()"
   ]
  },
  {
   "cell_type": "markdown",
   "metadata": {},
   "source": [
    "### 7. Studija slučaja: MNIST"
   ]
  },
  {
   "cell_type": "code",
   "execution_count": 85,
   "metadata": {
    "collapsed": false
   },
   "outputs": [
    {
     "name": "stdout",
     "output_type": "stream",
     "text": [
      "Successfully downloaded train-images-idx3-ubyte.gz 9912422 bytes.\n",
      "Extracting /tmp/data/train-images-idx3-ubyte.gz\n",
      "Successfully downloaded train-labels-idx1-ubyte.gz 28881 bytes.\n",
      "Extracting /tmp/data/train-labels-idx1-ubyte.gz\n",
      "Successfully downloaded t10k-images-idx3-ubyte.gz 1648877 bytes.\n",
      "Extracting /tmp/data/t10k-images-idx3-ubyte.gz\n",
      "Successfully downloaded t10k-labels-idx1-ubyte.gz 4542 bytes.\n",
      "Extracting /tmp/data/t10k-labels-idx1-ubyte.gz\n"
     ]
    }
   ],
   "source": [
    "from tensorflow.examples.tutorials.mnist import input_data\n",
    "\n",
    "tf.app.flags.DEFINE_string('data_dir', \n",
    "  '/tmp/data/', 'Directory for storing data')\n",
    "mnist = input_data.read_data_sets(\n",
    "  tf.app.flags.FLAGS.data_dir, one_hot=True)\n",
    "\n",
    "N = mnist.train.images.shape[0]\n",
    "D = mnist.train.images.shape[1]\n",
    "C = mnist.train.labels.shape[1]"
   ]
  },
  {
   "cell_type": "code",
   "execution_count": 89,
   "metadata": {
    "collapsed": false
   },
   "outputs": [
    {
     "name": "stdout",
     "output_type": "stream",
     "text": [
      "0 14.319\n"
     ]
    },
    {
     "ename": "KeyboardInterrupt",
     "evalue": "",
     "output_type": "error",
     "traceback": [
      "\u001b[1;31m---------------------------------------------------------------------------\u001b[0m",
      "\u001b[1;31mKeyboardInterrupt\u001b[0m                         Traceback (most recent call last)",
      "\u001b[1;32m<ipython-input-89-63f21995dcfc>\u001b[0m in \u001b[0;36m<module>\u001b[1;34m()\u001b[0m\n\u001b[0;32m      7\u001b[0m \u001b[0mtfdeep\u001b[0m \u001b[1;33m=\u001b[0m \u001b[0mTFDeep\u001b[0m\u001b[1;33m(\u001b[0m\u001b[0mlayers\u001b[0m\u001b[1;33m,\u001b[0m \u001b[0mparam_delta\u001b[0m\u001b[1;33m)\u001b[0m\u001b[1;33m\u001b[0m\u001b[0m\n\u001b[0;32m      8\u001b[0m \u001b[1;33m\u001b[0m\u001b[0m\n\u001b[1;32m----> 9\u001b[1;33m \u001b[0mtfdeep\u001b[0m\u001b[1;33m.\u001b[0m\u001b[0mtrain\u001b[0m\u001b[1;33m(\u001b[0m\u001b[0mmnist\u001b[0m\u001b[1;33m.\u001b[0m\u001b[0mtrain\u001b[0m\u001b[1;33m.\u001b[0m\u001b[0mimages\u001b[0m\u001b[1;33m,\u001b[0m \u001b[0mmnist\u001b[0m\u001b[1;33m.\u001b[0m\u001b[0mtrain\u001b[0m\u001b[1;33m.\u001b[0m\u001b[0mlabels\u001b[0m\u001b[1;33m,\u001b[0m \u001b[0mparam_niter\u001b[0m\u001b[1;33m,\u001b[0m \u001b[0mverbose\u001b[0m\u001b[1;33m,\u001b[0m \u001b[0mprint_every\u001b[0m\u001b[1;33m)\u001b[0m\u001b[1;33m\u001b[0m\u001b[0m\n\u001b[0m\u001b[0;32m     10\u001b[0m \u001b[1;33m\u001b[0m\u001b[0m\n\u001b[0;32m     11\u001b[0m \u001b[0mprint\u001b[0m\u001b[1;33m(\u001b[0m\u001b[1;34m'Accuracy:'\u001b[0m\u001b[1;33m,\u001b[0m \u001b[0mtfdeep\u001b[0m\u001b[1;33m.\u001b[0m\u001b[0maccuracy\u001b[0m\u001b[1;33m(\u001b[0m\u001b[0mX\u001b[0m\u001b[1;33m,\u001b[0m \u001b[0mYoh_\u001b[0m\u001b[1;33m)\u001b[0m\u001b[1;33m)\u001b[0m\u001b[1;33m\u001b[0m\u001b[0m\n",
      "\u001b[1;32m<ipython-input-66-aa90a98953db>\u001b[0m in \u001b[0;36mtrain\u001b[1;34m(self, X, Yoh_, param_niter, verbose, print_every)\u001b[0m\n\u001b[0;32m     39\u001b[0m         \u001b[1;32mfor\u001b[0m \u001b[0mi\u001b[0m \u001b[1;32min\u001b[0m \u001b[0mrange\u001b[0m\u001b[1;33m(\u001b[0m\u001b[0mparam_niter\u001b[0m\u001b[1;33m)\u001b[0m\u001b[1;33m:\u001b[0m\u001b[1;33m\u001b[0m\u001b[0m\n\u001b[0;32m     40\u001b[0m             _, val_loss = self.session.run([self.optimizer, self.loss],\n\u001b[1;32m---> 41\u001b[1;33m                                            feed_dict={self.X: X, self.Yoh_: Yoh_})\n\u001b[0m\u001b[0;32m     42\u001b[0m \u001b[1;33m\u001b[0m\u001b[0m\n\u001b[0;32m     43\u001b[0m             \u001b[1;32mif\u001b[0m \u001b[0mverbose\u001b[0m \u001b[1;32mand\u001b[0m \u001b[0mi\u001b[0m \u001b[1;33m%\u001b[0m \u001b[0mprint_every\u001b[0m \u001b[1;33m==\u001b[0m \u001b[1;36m0\u001b[0m\u001b[1;33m:\u001b[0m\u001b[1;33m\u001b[0m\u001b[0m\n",
      "\u001b[1;32m~\\Anaconda2\\envs\\ipykernel_py3\\lib\\site-packages\\tensorflow\\python\\client\\session.py\u001b[0m in \u001b[0;36mrun\u001b[1;34m(self, fetches, feed_dict, options, run_metadata)\u001b[0m\n\u001b[0;32m    893\u001b[0m     \u001b[1;32mtry\u001b[0m\u001b[1;33m:\u001b[0m\u001b[1;33m\u001b[0m\u001b[0m\n\u001b[0;32m    894\u001b[0m       result = self._run(None, fetches, feed_dict, options_ptr,\n\u001b[1;32m--> 895\u001b[1;33m                          run_metadata_ptr)\n\u001b[0m\u001b[0;32m    896\u001b[0m       \u001b[1;32mif\u001b[0m \u001b[0mrun_metadata\u001b[0m\u001b[1;33m:\u001b[0m\u001b[1;33m\u001b[0m\u001b[0m\n\u001b[0;32m    897\u001b[0m         \u001b[0mproto_data\u001b[0m \u001b[1;33m=\u001b[0m \u001b[0mtf_session\u001b[0m\u001b[1;33m.\u001b[0m\u001b[0mTF_GetBuffer\u001b[0m\u001b[1;33m(\u001b[0m\u001b[0mrun_metadata_ptr\u001b[0m\u001b[1;33m)\u001b[0m\u001b[1;33m\u001b[0m\u001b[0m\n",
      "\u001b[1;32m~\\Anaconda2\\envs\\ipykernel_py3\\lib\\site-packages\\tensorflow\\python\\client\\session.py\u001b[0m in \u001b[0;36m_run\u001b[1;34m(self, handle, fetches, feed_dict, options, run_metadata)\u001b[0m\n\u001b[0;32m   1122\u001b[0m     \u001b[1;32mif\u001b[0m \u001b[0mfinal_fetches\u001b[0m \u001b[1;32mor\u001b[0m \u001b[0mfinal_targets\u001b[0m \u001b[1;32mor\u001b[0m \u001b[1;33m(\u001b[0m\u001b[0mhandle\u001b[0m \u001b[1;32mand\u001b[0m \u001b[0mfeed_dict_tensor\u001b[0m\u001b[1;33m)\u001b[0m\u001b[1;33m:\u001b[0m\u001b[1;33m\u001b[0m\u001b[0m\n\u001b[0;32m   1123\u001b[0m       results = self._do_run(handle, final_targets, final_fetches,\n\u001b[1;32m-> 1124\u001b[1;33m                              feed_dict_tensor, options, run_metadata)\n\u001b[0m\u001b[0;32m   1125\u001b[0m     \u001b[1;32melse\u001b[0m\u001b[1;33m:\u001b[0m\u001b[1;33m\u001b[0m\u001b[0m\n\u001b[0;32m   1126\u001b[0m       \u001b[0mresults\u001b[0m \u001b[1;33m=\u001b[0m \u001b[1;33m[\u001b[0m\u001b[1;33m]\u001b[0m\u001b[1;33m\u001b[0m\u001b[0m\n",
      "\u001b[1;32m~\\Anaconda2\\envs\\ipykernel_py3\\lib\\site-packages\\tensorflow\\python\\client\\session.py\u001b[0m in \u001b[0;36m_do_run\u001b[1;34m(self, handle, target_list, fetch_list, feed_dict, options, run_metadata)\u001b[0m\n\u001b[0;32m   1319\u001b[0m     \u001b[1;32mif\u001b[0m \u001b[0mhandle\u001b[0m \u001b[1;32mis\u001b[0m \u001b[1;32mNone\u001b[0m\u001b[1;33m:\u001b[0m\u001b[1;33m\u001b[0m\u001b[0m\n\u001b[0;32m   1320\u001b[0m       return self._do_call(_run_fn, self._session, feeds, fetches, targets,\n\u001b[1;32m-> 1321\u001b[1;33m                            options, run_metadata)\n\u001b[0m\u001b[0;32m   1322\u001b[0m     \u001b[1;32melse\u001b[0m\u001b[1;33m:\u001b[0m\u001b[1;33m\u001b[0m\u001b[0m\n\u001b[0;32m   1323\u001b[0m       \u001b[1;32mreturn\u001b[0m \u001b[0mself\u001b[0m\u001b[1;33m.\u001b[0m\u001b[0m_do_call\u001b[0m\u001b[1;33m(\u001b[0m\u001b[0m_prun_fn\u001b[0m\u001b[1;33m,\u001b[0m \u001b[0mself\u001b[0m\u001b[1;33m.\u001b[0m\u001b[0m_session\u001b[0m\u001b[1;33m,\u001b[0m \u001b[0mhandle\u001b[0m\u001b[1;33m,\u001b[0m \u001b[0mfeeds\u001b[0m\u001b[1;33m,\u001b[0m \u001b[0mfetches\u001b[0m\u001b[1;33m)\u001b[0m\u001b[1;33m\u001b[0m\u001b[0m\n",
      "\u001b[1;32m~\\Anaconda2\\envs\\ipykernel_py3\\lib\\site-packages\\tensorflow\\python\\client\\session.py\u001b[0m in \u001b[0;36m_do_call\u001b[1;34m(self, fn, *args)\u001b[0m\n\u001b[0;32m   1325\u001b[0m   \u001b[1;32mdef\u001b[0m \u001b[0m_do_call\u001b[0m\u001b[1;33m(\u001b[0m\u001b[0mself\u001b[0m\u001b[1;33m,\u001b[0m \u001b[0mfn\u001b[0m\u001b[1;33m,\u001b[0m \u001b[1;33m*\u001b[0m\u001b[0margs\u001b[0m\u001b[1;33m)\u001b[0m\u001b[1;33m:\u001b[0m\u001b[1;33m\u001b[0m\u001b[0m\n\u001b[0;32m   1326\u001b[0m     \u001b[1;32mtry\u001b[0m\u001b[1;33m:\u001b[0m\u001b[1;33m\u001b[0m\u001b[0m\n\u001b[1;32m-> 1327\u001b[1;33m       \u001b[1;32mreturn\u001b[0m \u001b[0mfn\u001b[0m\u001b[1;33m(\u001b[0m\u001b[1;33m*\u001b[0m\u001b[0margs\u001b[0m\u001b[1;33m)\u001b[0m\u001b[1;33m\u001b[0m\u001b[0m\n\u001b[0m\u001b[0;32m   1328\u001b[0m     \u001b[1;32mexcept\u001b[0m \u001b[0merrors\u001b[0m\u001b[1;33m.\u001b[0m\u001b[0mOpError\u001b[0m \u001b[1;32mas\u001b[0m \u001b[0me\u001b[0m\u001b[1;33m:\u001b[0m\u001b[1;33m\u001b[0m\u001b[0m\n\u001b[0;32m   1329\u001b[0m       \u001b[0mmessage\u001b[0m \u001b[1;33m=\u001b[0m \u001b[0mcompat\u001b[0m\u001b[1;33m.\u001b[0m\u001b[0mas_text\u001b[0m\u001b[1;33m(\u001b[0m\u001b[0me\u001b[0m\u001b[1;33m.\u001b[0m\u001b[0mmessage\u001b[0m\u001b[1;33m)\u001b[0m\u001b[1;33m\u001b[0m\u001b[0m\n",
      "\u001b[1;32m~\\Anaconda2\\envs\\ipykernel_py3\\lib\\site-packages\\tensorflow\\python\\client\\session.py\u001b[0m in \u001b[0;36m_run_fn\u001b[1;34m(session, feed_dict, fetch_list, target_list, options, run_metadata)\u001b[0m\n\u001b[0;32m   1304\u001b[0m           return tf_session.TF_Run(session, options,\n\u001b[0;32m   1305\u001b[0m                                    \u001b[0mfeed_dict\u001b[0m\u001b[1;33m,\u001b[0m \u001b[0mfetch_list\u001b[0m\u001b[1;33m,\u001b[0m \u001b[0mtarget_list\u001b[0m\u001b[1;33m,\u001b[0m\u001b[1;33m\u001b[0m\u001b[0m\n\u001b[1;32m-> 1306\u001b[1;33m                                    status, run_metadata)\n\u001b[0m\u001b[0;32m   1307\u001b[0m \u001b[1;33m\u001b[0m\u001b[0m\n\u001b[0;32m   1308\u001b[0m     \u001b[1;32mdef\u001b[0m \u001b[0m_prun_fn\u001b[0m\u001b[1;33m(\u001b[0m\u001b[0msession\u001b[0m\u001b[1;33m,\u001b[0m \u001b[0mhandle\u001b[0m\u001b[1;33m,\u001b[0m \u001b[0mfeed_dict\u001b[0m\u001b[1;33m,\u001b[0m \u001b[0mfetch_list\u001b[0m\u001b[1;33m)\u001b[0m\u001b[1;33m:\u001b[0m\u001b[1;33m\u001b[0m\u001b[0m\n",
      "\u001b[1;31mKeyboardInterrupt\u001b[0m: "
     ]
    }
   ],
   "source": [
    "verbose = True\n",
    "print_every = 1000\n",
    "param_delta = 0.1\n",
    "param_niter = 10000\n",
    "layers = [784, 10]\n",
    "\n",
    "tfdeep = TFDeep(layers, param_delta)\n",
    "\n",
    "tfdeep.train(mnist.train.images, mnist.train.labels, param_niter, verbose, print_every)\n",
    "\n",
    "print('Accuracy:', tfdeep.accuracy(X, Yoh_))"
   ]
  },
  {
   "cell_type": "code",
   "execution_count": 92,
   "metadata": {
    "collapsed": false
   },
   "outputs": [
    {
     "ename": "AttributeError",
     "evalue": "'TFDeep' object has no attribute 'last_layer_w'",
     "output_type": "error",
     "traceback": [
      "\u001b[1;31m---------------------------------------------------------------------------\u001b[0m",
      "\u001b[1;31mAttributeError\u001b[0m                            Traceback (most recent call last)",
      "\u001b[1;32m<ipython-input-92-cfaa40098418>\u001b[0m in \u001b[0;36m<module>\u001b[1;34m()\u001b[0m\n\u001b[0;32m      1\u001b[0m \u001b[0m_\u001b[0m\u001b[1;33m,\u001b[0m \u001b[0mplots\u001b[0m \u001b[1;33m=\u001b[0m \u001b[0mplt\u001b[0m\u001b[1;33m.\u001b[0m\u001b[0msubplots\u001b[0m\u001b[1;33m(\u001b[0m\u001b[1;36m2\u001b[0m\u001b[1;33m,\u001b[0m \u001b[1;36m5\u001b[0m\u001b[1;33m,\u001b[0m \u001b[0mfigsize\u001b[0m\u001b[1;33m=\u001b[0m\u001b[1;33m(\u001b[0m\u001b[1;36m16\u001b[0m\u001b[1;33m,\u001b[0m \u001b[1;36m6\u001b[0m\u001b[1;33m)\u001b[0m\u001b[1;33m)\u001b[0m\u001b[1;33m\u001b[0m\u001b[0m\n\u001b[0;32m      2\u001b[0m \u001b[1;32mfor\u001b[0m \u001b[0mi\u001b[0m \u001b[1;32min\u001b[0m \u001b[0mrange\u001b[0m\u001b[1;33m(\u001b[0m\u001b[1;36m10\u001b[0m\u001b[1;33m)\u001b[0m\u001b[1;33m:\u001b[0m\u001b[1;33m\u001b[0m\u001b[0m\n\u001b[1;32m----> 3\u001b[1;33m     \u001b[0mvmin\u001b[0m \u001b[1;33m=\u001b[0m \u001b[0mtfdeep\u001b[0m\u001b[1;33m.\u001b[0m\u001b[0msession\u001b[0m\u001b[1;33m.\u001b[0m\u001b[0mrun\u001b[0m\u001b[1;33m(\u001b[0m\u001b[0mtfdeep\u001b[0m\u001b[1;33m.\u001b[0m\u001b[0mlast_layer_w\u001b[0m\u001b[1;33m)\u001b[0m\u001b[1;33m[\u001b[0m\u001b[1;33m:\u001b[0m\u001b[1;33m,\u001b[0m\u001b[0mi\u001b[0m\u001b[1;33m]\u001b[0m\u001b[1;33m.\u001b[0m\u001b[0mmin\u001b[0m\u001b[1;33m(\u001b[0m\u001b[1;33m)\u001b[0m\u001b[1;33m\u001b[0m\u001b[0m\n\u001b[0m\u001b[0;32m      4\u001b[0m     \u001b[0mvmax\u001b[0m \u001b[1;33m=\u001b[0m \u001b[0mtfdeep\u001b[0m\u001b[1;33m.\u001b[0m\u001b[0msession\u001b[0m\u001b[1;33m.\u001b[0m\u001b[0mrun\u001b[0m\u001b[1;33m(\u001b[0m\u001b[0mtfdeep\u001b[0m\u001b[1;33m.\u001b[0m\u001b[0mlast_layer_w\u001b[0m\u001b[1;33m)\u001b[0m\u001b[1;33m[\u001b[0m\u001b[1;33m:\u001b[0m\u001b[1;33m,\u001b[0m\u001b[1;36m0\u001b[0m\u001b[1;33m]\u001b[0m\u001b[1;33m.\u001b[0m\u001b[0mmax\u001b[0m\u001b[1;33m(\u001b[0m\u001b[1;33m)\u001b[0m\u001b[1;33m\u001b[0m\u001b[0m\n\u001b[0;32m      5\u001b[0m     plots[i].matshow(tfdeep.session.run(tfDeep.last_layer_w)[:,i].reshape(28,28),\n",
      "\u001b[1;31mAttributeError\u001b[0m: 'TFDeep' object has no attribute 'last_layer_w'"
     ]
    },
    {
     "data": {
      "image/png": "[encoded data removed]",
      "text/plain": [
       "<matplotlib.figure.Figure at 0x25c00cb5ba8>"
      ]
     },
     "metadata": {},
     "output_type": "display_data"
    }
   ],
   "source": [
    "_, plots = plt.subplots(2, 5, figsize=(16, 6))\n",
    "for i in range(10):\n",
    "    vmin = tfdeep.session.run(tfdeep.last_layer_w)[:,i].min()\n",
    "    vmax = tfdeep.session.run(tfdeep.last_layer_w)[:,0].max()\n",
    "    plots[i].matshow(tfdeep.session.run(tfDeep.last_layer_w)[:,i].reshape(28,28),\n",
    "                     cmap=plt.cm.gray, vmin=(0.5 * vmin), vmax=(0.5 * vmax))\n",
    "plt.show()"
   ]
  },
  {
   "cell_type": "code",
   "execution_count": null,
   "metadata": {
    "collapsed": true
   },
   "outputs": [],
   "source": []
  }
 ],
 "metadata": {
  "anaconda-cloud": {},
  "kernelspec": {
   "display_name": "Python 3",
   "language": "python",
   "name": "python3"
  },
  "language_info": {
   "codemirror_mode": {
    "name": "ipython",
    "version": 3
   },
   "file_extension": ".py",
   "mimetype": "text/x-python",
   "name": "python",
   "nbconvert_exporter": "python",
   "pygments_lexer": "ipython3",
   "version": "3.6.3"
  }
 },
 "nbformat": 4,
 "nbformat_minor": 1
}
